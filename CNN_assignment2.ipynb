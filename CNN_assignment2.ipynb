{
 "cells": [
  {
   "cell_type": "code",
   "execution_count": 1,
   "metadata": {},
   "outputs": [],
   "source": [
    "import time\n",
    "import numpy as np\n",
    "import pandas as pd\n",
    "from sklearn.metrics import confusion_matrix\n",
    "from numpy import genfromtxt\n",
    "import matplotlib.pyplot as plt\n",
    "import tensorflow as tf\n",
    "from sklearn.datasets import load_sample_images\n",
    "from tensorflow.python.keras.utils import to_categorical"
   ]
  },
  {
   "cell_type": "code",
   "execution_count": 2,
   "metadata": {},
   "outputs": [],
   "source": [
    "# using opencv python for the Gabor filters\n",
    "import cv2"
   ]
  },
  {
   "cell_type": "markdown",
   "metadata": {},
   "source": [
    "Using tensorflow version 1.5"
   ]
  },
  {
   "cell_type": "code",
   "execution_count": 3,
   "metadata": {},
   "outputs": [
    {
     "data": {
      "text/plain": [
       "'1.5.0'"
      ]
     },
     "execution_count": 3,
     "metadata": {},
     "output_type": "execute_result"
    }
   ],
   "source": [
    "tf.__version__"
   ]
  },
  {
   "cell_type": "markdown",
   "metadata": {},
   "source": [
    "## 1. Reading images and exploring data"
   ]
  },
  {
   "cell_type": "code",
   "execution_count": 4,
   "metadata": {},
   "outputs": [],
   "source": [
    "# read the csv grayscale pixels\n",
    "data=pd.read_csv('image_sentiment/sentiment_data.csv')"
   ]
  },
  {
   "cell_type": "code",
   "execution_count": 5,
   "metadata": {},
   "outputs": [],
   "source": [
    "# converting all the strings of  pixels to numpy arrays with the right shape\n",
    "data['feature']=data.feature.apply(lambda x: np.array(list(map(float,x.split()))).reshape(48,48))"
   ]
  },
  {
   "cell_type": "code",
   "execution_count": 6,
   "metadata": {},
   "outputs": [
    {
     "data": {
      "text/plain": [
       "28709"
      ]
     },
     "execution_count": 6,
     "metadata": {},
     "output_type": "execute_result"
    }
   ],
   "source": [
    "len(data)"
   ]
  },
  {
   "cell_type": "code",
   "execution_count": 7,
   "metadata": {},
   "outputs": [],
   "source": [
    "# retrieving the names of the classes for visual confimation\n",
    "sentiment_names=['angry', 'disgust', 'fear', 'happy','sad', 'surprise','neutral']"
   ]
  },
  {
   "cell_type": "code",
   "execution_count": 8,
   "metadata": {},
   "outputs": [
    {
     "name": "stdout",
     "output_type": "stream",
     "text": [
      "4\n",
      "sad\n"
     ]
    },
    {
     "data": {
      "image/png": "[encoded data removed]",
      "text/plain": [
       "<Figure size 432x288 with 1 Axes>"
      ]
     },
     "metadata": {
      "needs_background": "light"
     },
     "output_type": "display_data"
    }
   ],
   "source": [
    "# printing any image with numeric and string label\n",
    "i=580\n",
    "plt.imshow(data.feature[i],cmap='gray')\n",
    "print(data.label[i])\n",
    "print(sentiment_names[int(data.label[i])])"
   ]
  },
  {
   "cell_type": "code",
   "execution_count": 9,
   "metadata": {},
   "outputs": [
    {
     "data": {
      "text/plain": [
       "3    7215\n",
       "6    4965\n",
       "4    4830\n",
       "2    4097\n",
       "0    3995\n",
       "5    3171\n",
       "1     436\n",
       "Name: label, dtype: int64"
      ]
     },
     "execution_count": 9,
     "metadata": {},
     "output_type": "execute_result"
    }
   ],
   "source": [
    "data.label.value_counts()"
   ]
  },
  {
   "cell_type": "code",
   "execution_count": 10,
   "metadata": {},
   "outputs": [
    {
     "data": {
      "text/plain": [
       "<matplotlib.axes._subplots.AxesSubplot at 0x7f950df0fcc0>"
      ]
     },
     "execution_count": 10,
     "metadata": {},
     "output_type": "execute_result"
    },
    {
     "data": {
      "image/png": "[encoded data removed]",
      "text/plain": [
       "<Figure size 432x288 with 1 Axes>"
      ]
     },
     "metadata": {
      "needs_background": "light"
     },
     "output_type": "display_data"
    }
   ],
   "source": [
    "# getting all the numbers of images per class\n",
    "data.label.value_counts().plot(kind='bar')"
   ]
  },
  {
   "cell_type": "markdown",
   "metadata": {},
   "source": [
    "The examples for the classes 3 and 1 are imbalanced. I will perform the data augmentation so these classes would be balanced as the others are."
   ]
  },
  {
   "cell_type": "markdown",
   "metadata": {},
   "source": [
    "## 2. Preprocesing step"
   ]
  },
  {
   "cell_type": "markdown",
   "metadata": {},
   "source": [
    "### 2.1. Dividing dataset for augmentation of certain classes"
   ]
  },
  {
   "cell_type": "code",
   "execution_count": 11,
   "metadata": {},
   "outputs": [],
   "source": [
    "# method to crop images randomly\n",
    "def random_crop(dataset, percentage):\n",
    "    # adjusting cropping size  to the new image percentage and setting random seed\n",
    "    crop_size = np.array([1,int(48*percentage),int(48*percentage)], dtype = np.int32)\n",
    "    seed = np.random.randint(1234)\n",
    "\n",
    "    X_cropped_data = []\n",
    "    tf.reset_default_graph()\n",
    "    X2 = tf.placeholder(tf.float32, shape=(1,48,48))\n",
    "    # Define Tensorflow operation for all crops but only one base image at the time\n",
    "    tf_img = tf.random_crop(X2, size = crop_size, seed = seed)\n",
    "    \n",
    "    with tf.Session() as sess:\n",
    "        sess.run(tf.global_variables_initializer())\n",
    "\n",
    "        for img_data in dataset:\n",
    "            batch_img = np.expand_dims(img_data, axis = 0)\n",
    "            cropped_imgs = sess.run(tf_img, feed_dict = {X2: batch_img})\n",
    "            X_cropped_data.extend(cropped_imgs)\n",
    "\n",
    "#     X_cropped_data = np.array(X_cropped_data, dtype = np.float32)\n",
    "    return X_cropped_data"
   ]
  },
  {
   "cell_type": "code",
   "execution_count": 12,
   "metadata": {},
   "outputs": [],
   "source": [
    "# group images by label\n",
    "groups = data.groupby(['label'])"
   ]
  },
  {
   "cell_type": "markdown",
   "metadata": {},
   "source": [
    "If  the label is  equal to 3 just crop once, if not crop randomly many times until it reaches a good number"
   ]
  },
  {
   "cell_type": "code",
   "execution_count": 13,
   "metadata": {},
   "outputs": [],
   "source": [
    "per=0.85 # setting the cropping value to the same percentage for all images\n",
    "full_dataset=[]\n",
    "labels=[]\n",
    "for label, data_split in groups:\n",
    "    dataset=np.array(data_split.feature.tolist(),dtype=np.float32)\n",
    "    random_imgs = random_crop(dataset,per)\n",
    "    full_dataset.extend(random_imgs)\n",
    "    labels.extend(np.full(len(dataset),int(label)))\n",
    "\n",
    "    if int(label)==3:\n",
    "        continue\n",
    "    elif int(label)==1:\n",
    "        for i in range(0,10):\n",
    "            random_imgs = random_crop(dataset,per)\n",
    "            full_dataset.extend(random_imgs)\n",
    "        labels.extend(np.full(10*len(dataset),int(label)))\n",
    "    else:           \n",
    "        dataset=np.array(data_split.feature[500:2500].tolist(),dtype=np.float32)\n",
    "        random_imgs = random_crop(dataset,per)\n",
    "        full_dataset.extend(random_imgs)\n",
    "        labels.extend(np.full(len(dataset),int(label)))"
   ]
  },
  {
   "cell_type": "markdown",
   "metadata": {},
   "source": [
    "### 2.2. Print a set of images originals and cropped"
   ]
  },
  {
   "cell_type": "code",
   "execution_count": 14,
   "metadata": {},
   "outputs": [
    {
     "data": {
      "image/png": "[encoded data removed]",
      "text/plain": [
       "<Figure size 720x360 with 14 Axes>"
      ]
     },
     "metadata": {
      "needs_background": "light"
     },
     "output_type": "display_data"
    }
   ],
   "source": [
    "f, axarr = plt.subplots(2,7, figsize=(10,5))\n",
    "f.tight_layout()\n",
    "indexes=[0,299,2,7,3,15,4]\n",
    "indexes_new=[0,5995,10791,16888,24103,30933,36104]\n",
    "for i in range (0,2):\n",
    "    for j in range(0,7):\n",
    "        if i==0:\n",
    "            axarr[i,j].imshow(data.feature[indexes[j]], cmap='gray')   \n",
    "            axarr[i,j].set_title(sentiment_names[data.label[indexes[j]]])\n",
    "        else:\n",
    "            axarr[i,j].imshow(full_dataset[indexes_new[j]], cmap='gray')   \n",
    "            axarr[i,j].set_title(sentiment_names[labels[indexes_new[j]]])"
   ]
  },
  {
   "cell_type": "code",
   "execution_count": 15,
   "metadata": {},
   "outputs": [
    {
     "data": {
      "image/png": "[encoded data removed]",
      "text/plain": [
       "<Figure size 720x360 with 7 Axes>"
      ]
     },
     "metadata": {
      "needs_background": "light"
     },
     "output_type": "display_data"
    }
   ],
   "source": [
    "# augmentation of the class 1 = disgust\n",
    "f, axarr = plt.subplots(1,7, figsize=(10,5))\n",
    "indexes=[5995,6431,6867,7303,7739,8175,8611]\n",
    "\n",
    "for j in range(0,7):\n",
    "        axarr[j].imshow(full_dataset[indexes[j]], cmap='gray')   \n",
    "        axarr[j].set_title(sentiment_names[labels[indexes[j]]])"
   ]
  },
  {
   "cell_type": "markdown",
   "metadata": {},
   "source": [
    "### 2.3. Check for data augmentation result and label hot encoding"
   ]
  },
  {
   "cell_type": "code",
   "execution_count": 16,
   "metadata": {},
   "outputs": [],
   "source": [
    "# #release memory from previous variables\n",
    "del data\n",
    "del groups\n",
    "# #convert the cropped/ augmented result into a dataframe\n",
    "data = pd.DataFrame({'label':labels,'feature':full_dataset})"
   ]
  },
  {
   "cell_type": "code",
   "execution_count": 17,
   "metadata": {},
   "outputs": [
    {
     "data": {
      "text/plain": [
       "43069"
      ]
     },
     "execution_count": 17,
     "metadata": {},
     "output_type": "execute_result"
    }
   ],
   "source": [
    "# size of the augmented data\n",
    "len(data)"
   ]
  },
  {
   "cell_type": "code",
   "execution_count": 18,
   "metadata": {},
   "outputs": [
    {
     "data": {
      "text/plain": [
       "<matplotlib.axes._subplots.AxesSubplot at 0x7f956c0581d0>"
      ]
     },
     "execution_count": 18,
     "metadata": {},
     "output_type": "execute_result"
    },
    {
     "data": {
      "image/png": "[encoded data removed]",
      "text/plain": [
       "<Figure size 432x288 with 1 Axes>"
      ]
     },
     "metadata": {
      "needs_background": "light"
     },
     "output_type": "display_data"
    }
   ],
   "source": [
    "# plot of the distribution of the images per label\n",
    "data.label.value_counts().plot(kind='bar')"
   ]
  },
  {
   "cell_type": "markdown",
   "metadata": {},
   "source": [
    "- The bar graph above shows that the clases are much better due to the data augmentation\n",
    "- Before splitting the data I will transform the labels to one hot encoding "
   ]
  },
  {
   "cell_type": "code",
   "execution_count": null,
   "metadata": {},
   "outputs": [],
   "source": [
    "# hot encoding labels\n",
    "data=pd.concat([data, pd.get_dummies(data['label'],prefix='labl',drop_first=True)],axis=1)"
   ]
  },
  {
   "cell_type": "code",
   "execution_count": null,
   "metadata": {},
   "outputs": [
    {
     "data": {
      "text/html": [
       "<div>\n",
       "<style scoped>\n",
       "    .dataframe tbody tr th:only-of-type {\n",
       "        vertical-align: middle;\n",
       "    }\n",
       "\n",
       "    .dataframe tbody tr th {\n",
       "        vertical-align: top;\n",
       "    }\n",
       "\n",
       "    .dataframe thead th {\n",
       "        text-align: right;\n",
       "    }\n",
       "</style>\n",
       "<table border=\"1\" class=\"dataframe\">\n",
       "  <thead>\n",
       "    <tr style=\"text-align: right;\">\n",
       "      <th></th>\n",
       "      <th>feature</th>\n",
       "      <th>label</th>\n",
       "      <th>labl_1</th>\n",
       "      <th>labl_2</th>\n",
       "      <th>labl_3</th>\n",
       "      <th>labl_4</th>\n",
       "      <th>labl_5</th>\n",
       "      <th>labl_6</th>\n",
       "    </tr>\n",
       "  </thead>\n",
       "  <tbody>\n",
       "    <tr>\n",
       "      <th>0</th>\n",
       "      <td>[[54.0, 58.0, 60.0, 48.0, 89.0, 115.0, 121.0, ...</td>\n",
       "      <td>0</td>\n",
       "      <td>0</td>\n",
       "      <td>0</td>\n",
       "      <td>0</td>\n",
       "      <td>0</td>\n",
       "      <td>0</td>\n",
       "      <td>0</td>\n",
       "    </tr>\n",
       "    <tr>\n",
       "      <th>1</th>\n",
       "      <td>[[161.0, 174.0, 150.0, 127.0, 136.0, 140.0, 15...</td>\n",
       "      <td>0</td>\n",
       "      <td>0</td>\n",
       "      <td>0</td>\n",
       "      <td>0</td>\n",
       "      <td>0</td>\n",
       "      <td>0</td>\n",
       "      <td>0</td>\n",
       "    </tr>\n",
       "    <tr>\n",
       "      <th>2</th>\n",
       "      <td>[[18.0, 25.0, 30.0, 32.0, 54.0, 85.0, 90.0, 10...</td>\n",
       "      <td>0</td>\n",
       "      <td>0</td>\n",
       "      <td>0</td>\n",
       "      <td>0</td>\n",
       "      <td>0</td>\n",
       "      <td>0</td>\n",
       "      <td>0</td>\n",
       "    </tr>\n",
       "    <tr>\n",
       "      <th>3</th>\n",
       "      <td>[[149.0, 217.0, 231.0, 235.0, 236.0, 230.0, 23...</td>\n",
       "      <td>0</td>\n",
       "      <td>0</td>\n",
       "      <td>0</td>\n",
       "      <td>0</td>\n",
       "      <td>0</td>\n",
       "      <td>0</td>\n",
       "      <td>0</td>\n",
       "    </tr>\n",
       "    <tr>\n",
       "      <th>4</th>\n",
       "      <td>[[46.0, 52.0, 62.0, 72.0, 70.0, 71.0, 73.0, 76...</td>\n",
       "      <td>0</td>\n",
       "      <td>0</td>\n",
       "      <td>0</td>\n",
       "      <td>0</td>\n",
       "      <td>0</td>\n",
       "      <td>0</td>\n",
       "      <td>0</td>\n",
       "    </tr>\n",
       "  </tbody>\n",
       "</table>\n",
       "</div>"
      ],
      "text/plain": [
       "                                             feature  label  labl_1  labl_2  \\\n",
       "0  [[54.0, 58.0, 60.0, 48.0, 89.0, 115.0, 121.0, ...      0       0       0   \n",
       "1  [[161.0, 174.0, 150.0, 127.0, 136.0, 140.0, 15...      0       0       0   \n",
       "2  [[18.0, 25.0, 30.0, 32.0, 54.0, 85.0, 90.0, 10...      0       0       0   \n",
       "3  [[149.0, 217.0, 231.0, 235.0, 236.0, 230.0, 23...      0       0       0   \n",
       "4  [[46.0, 52.0, 62.0, 72.0, 70.0, 71.0, 73.0, 76...      0       0       0   \n",
       "\n",
       "   labl_3  labl_4  labl_5  labl_6  \n",
       "0       0       0       0       0  \n",
       "1       0       0       0       0  \n",
       "2       0       0       0       0  \n",
       "3       0       0       0       0  \n",
       "4       0       0       0       0  "
      ]
     },
     "execution_count": 20,
     "metadata": {},
     "output_type": "execute_result"
    }
   ],
   "source": [
    "data.head()"
   ]
  },
  {
   "cell_type": "markdown",
   "metadata": {},
   "source": [
    "## 3. Split into a test and training set (stratified by label)"
   ]
  },
  {
   "cell_type": "markdown",
   "metadata": {},
   "source": [
    "### 3.1 Stratified split by label"
   ]
  },
  {
   "cell_type": "code",
   "execution_count": null,
   "metadata": {},
   "outputs": [],
   "source": [
    "from sklearn.model_selection import StratifiedShuffleSplit\n",
    "#splitting the data into 80%train set and 20% test set\n",
    "split= StratifiedShuffleSplit(n_splits=1, test_size=0.2, random_state=42)\n",
    "for train_index, test_index in split.split(data, data['label']):\n",
    "    data_train=data.loc[train_index]\n",
    "    data_test=data.loc[test_index]"
   ]
  },
  {
   "cell_type": "code",
   "execution_count": null,
   "metadata": {},
   "outputs": [
    {
     "name": "stdout",
     "output_type": "stream",
     "text": [
      "34455 train + 8614 test\n"
     ]
    }
   ],
   "source": [
    "# confirm that the numbers add up to 43069\n",
    "print(len(data_train), \"train +\", len(data_test), \"test\")"
   ]
  },
  {
   "cell_type": "code",
   "execution_count": null,
   "metadata": {},
   "outputs": [
    {
     "data": {
      "text/plain": [
       "3    0.167522\n",
       "6    0.161717\n",
       "4    0.158583\n",
       "2    0.141564\n",
       "0    0.139195\n",
       "5    0.120063\n",
       "1    0.111356\n",
       "Name: label, dtype: float64"
      ]
     },
     "execution_count": 23,
     "metadata": {},
     "output_type": "execute_result"
    }
   ],
   "source": [
    "# percentage of images in each class of the original cropped images\n",
    "data['label'].value_counts()/len(data)"
   ]
  },
  {
   "cell_type": "code",
   "execution_count": null,
   "metadata": {},
   "outputs": [
    {
     "data": {
      "text/plain": [
       "3    0.167523\n",
       "6    0.161718\n",
       "4    0.158584\n",
       "2    0.141547\n",
       "0    0.139196\n",
       "5    0.120070\n",
       "1    0.111363\n",
       "Name: label, dtype: float64"
      ]
     },
     "execution_count": 24,
     "metadata": {},
     "output_type": "execute_result"
    }
   ],
   "source": [
    "# percentage of images in each class of the stratified train set\n",
    "data_train['label'].value_counts()/len(data_train)"
   ]
  },
  {
   "cell_type": "code",
   "execution_count": null,
   "metadata": {},
   "outputs": [
    {
     "data": {
      "text/plain": [
       "3    0.167518\n",
       "6    0.161713\n",
       "4    0.158579\n",
       "2    0.141630\n",
       "0    0.139192\n",
       "5    0.120037\n",
       "1    0.111330\n",
       "Name: label, dtype: float64"
      ]
     },
     "execution_count": 25,
     "metadata": {},
     "output_type": "execute_result"
    }
   ],
   "source": [
    "# percentage of images in each class of the stratified test set\n",
    "data_test['label'].value_counts()/len(data_test)"
   ]
  },
  {
   "cell_type": "markdown",
   "metadata": {},
   "source": [
    "## 4. Creating a CNN with three hidden layers"
   ]
  },
  {
   "cell_type": "markdown",
   "metadata": {},
   "source": [
    "I will create a CNN using the following architecture:\n",
    "    1. Convolutional layer # 1: convolution 32 gabor filters 5x5 with relu activation function\n",
    "    2. Pooling layer # 1: maxpooling filter size 2x2 with stride of 2\n",
    "    3. Fully connected layer # 1: 128 neurons relu activation function\n",
    "    4. Fully connected layer # 2: 7 neurons softmax activation function (7 outputs one for each class)"
   ]
  },
  {
   "cell_type": "code",
   "execution_count": null,
   "metadata": {},
   "outputs": [],
   "source": [
    "# using gabor filters was proven to be a good method in face feature detection\n",
    "def get_Gabor_filters():\n",
    "    filters = []\n",
    "    ksize = 5\n",
    "    for theta in np.arange(np.pi/8, np.pi, np.pi / 8):\n",
    "        for lamda in np.arange(np.pi/4, np.pi, np.pi/4): \n",
    "            kern = cv2.getGaborKernel((ksize, ksize), 1.0, theta, lamda, 0.5, 0, ktype=cv2.CV_32F)\n",
    "            kern /= 1.5*kern.sum()\n",
    "            filters.append(kern)\n",
    "    return filters"
   ]
  },
  {
   "cell_type": "code",
   "execution_count": null,
   "metadata": {},
   "outputs": [],
   "source": [
    "height=40\n",
    "width=40\n",
    "channels=1\n",
    "\n",
    "#setting placeholders\n",
    "X = tf.placeholder(tf.float32, shape=[None, 40*40], name=\"X\")\n",
    "X_reshaped = tf.reshape(X, shape=[-1, height, width, channels])\n",
    "y = tf.placeholder(tf.int32, shape=[None], name=\"y\")\n",
    "\n",
    "# generate 21 Gabor filters using opnecv \n",
    "filters_test=np.array(get_Gabor_filters(),dtype=np.float32)\n",
    "filters_test=np.expand_dims(filters_test,1)\n",
    "filters_test=filters_test.transpose(2,3,1,0)\n",
    "\n",
    "#--------------------------CONVOLUTIONAL NETWORK --------------------------------\n",
    "\n",
    "# Convloutional # 1: graph with input X plus a convolutional layer applying the 21 filters\n",
    "conv1 = tf.nn.conv2d(X_reshaped ,filters_test,strides=[1,1,1,1], padding='SAME')\n",
    "out_act=tf.nn.relu(conv1)\n",
    "\n",
    "# Convolutional # 2: \n",
    "conv2 = tf.layers.conv2d(out_act, filters=32, kernel_size=3,strides=1, padding='SAME',\n",
    "                               activation=tf.nn.relu, name=\"conv1\")\n",
    "# Max pool # 1\n",
    "max_pool = tf.nn.max_pool(conv2, ksize=[1,2,2,1], strides=[1,2,2,1], padding='SAME')\n",
    "pool_flat = tf.reshape(max_pool, shape=[-1, 32*20*20])\n",
    "\n",
    "# fully connected layer # 1\n",
    "fc1 = tf.layers.dense(pool_flat, 64, activation=tf.nn.relu, name=\"fc1\")\n",
    "\n",
    "# fully connected layer # 2\n",
    "logits = tf.layers.dense(fc1, 7, name=\"output\")\n",
    "Y_proba = tf.nn.softmax(logits, name=\"Y_proba\")\n",
    "\n",
    "# optimizer\n",
    "xentropy = tf.nn.sparse_softmax_cross_entropy_with_logits(logits=logits, labels=y)\n",
    "loss = tf.reduce_mean(xentropy)\n",
    "optimizer = tf.train.AdamOptimizer()\n",
    "training_op = optimizer.minimize(loss)\n",
    "\n",
    "# Calculate correct values and accuracy\n",
    "correct = tf.nn.in_top_k(logits, y, 1)\n",
    "accuracy = tf.reduce_mean(tf.cast(correct, tf.float32))\n",
    "\n",
    "# initizialize variables\n",
    "init = tf.global_variables_initializer()\n",
    "saver = tf.train.Saver()"
   ]
  },
  {
   "cell_type": "markdown",
   "metadata": {},
   "source": [
    "## 5. Test the convolutional network"
   ]
  },
  {
   "cell_type": "markdown",
   "metadata": {},
   "source": [
    "I chose crossentropy  to measure the loss and optimized it, the metric calculated to confirm the results is accuracy."
   ]
  },
  {
   "cell_type": "code",
   "execution_count": null,
   "metadata": {},
   "outputs": [],
   "source": [
    "train_imgs=np.array(data_train.feature.tolist(),dtype=np.float32)\n",
    "test_imgs=np.array(data_test.feature.tolist(),dtype=np.float32)\n",
    "train_labels=np.array(data_train.label.tolist(),dtype=np.float32)\n",
    "test_labels=np.array(data_test.label.tolist(),dtype=np.float32)\n",
    "X_train = train_imgs.astype(np.float32).reshape(-1, 40*40) / 255.0\n",
    "X_test = test_imgs.astype(np.float32).reshape(-1, 40*40) / 255.0\n",
    "y_train = train_labels.astype(np.int32)\n",
    "y_test =test_labels.astype(np.int32)"
   ]
  },
  {
   "cell_type": "code",
   "execution_count": null,
   "metadata": {},
   "outputs": [],
   "source": [
    "def shuffle_batch(X, y, batch_size):\n",
    "    rnd_idx = np.random.permutation(len(X))\n",
    "    n_batches = len(X) // batch_size\n",
    "    for batch_idx in np.array_split(rnd_idx, n_batches):\n",
    "        X_batch, y_batch = X[batch_idx], y[batch_idx]\n",
    "        yield X_batch, y_batch"
   ]
  },
  {
   "cell_type": "code",
   "execution_count": null,
   "metadata": {},
   "outputs": [
    {
     "name": "stdout",
     "output_type": "stream",
     "text": [
      "0 Last batch accuracy: 0.29333332 Test accuracy: 0.295101\n",
      "1 Last batch accuracy: 0.34666666 Test accuracy: 0.35639656\n",
      "2 Last batch accuracy: 0.36 Test accuracy: 0.3850708\n",
      "3 Last batch accuracy: 0.5466667 Test accuracy: 0.39493847\n",
      "4 Last batch accuracy: 0.58666664 Test accuracy: 0.39493847\n",
      "5 Last batch accuracy: 0.68 Test accuracy: 0.3933132\n",
      "6 Last batch accuracy: 0.7733333 Test accuracy: 0.39389366\n",
      "7 Last batch accuracy: 0.6533333 Test accuracy: 0.3815881\n",
      "8 Last batch accuracy: 0.74666667 Test accuracy: 0.36846992\n",
      "9 Last batch accuracy: 0.85333335 Test accuracy: 0.3761319\n"
     ]
    }
   ],
   "source": [
    "n_epochs = 10\n",
    "batch_size = 75\n",
    "\n",
    "with tf.Session() as sess:\n",
    "    init.run()\n",
    "    for epoch in range(n_epochs):\n",
    "        for X_batch, y_batch in shuffle_batch(X_train, y_train, batch_size):\n",
    "            sess.run(training_op, feed_dict={X: X_batch, y: y_batch})\n",
    "        acc_batch = accuracy.eval(feed_dict={X: X_batch, y: y_batch})\n",
    "        acc_test = accuracy.eval(feed_dict={X: X_test, y: y_test})\n",
    "        print(epoch, \"Last batch accuracy:\", acc_batch, \"Test accuracy:\", acc_test)\n",
    "        save_path = saver.save(sess, \"./face_sentiment_model\")"
   ]
  },
  {
   "cell_type": "markdown",
   "metadata": {},
   "source": [
    "### 5.1 Describing results "
   ]
  },
  {
   "cell_type": "markdown",
   "metadata": {},
   "source": [
    "The accuracy of the model is going up during the training stage, but it is performing bad on the test set.\n",
    "I tuned some parameters as for example, the size of the Gabor filters to 3. Then I changed the convolutional layer to 32 tensorflow filters. Then I added an extra convolutional layer with 32 filters. None of these tuning strategies improved the results.\n",
    "\n",
    "- 0 Last batch accuracy: 0.29333332 Test accuracy: 0.295101\n",
    "- 1 Last batch accuracy: 0.34666666 Test accuracy: 0.35639656\n",
    "- 2 Last batch accuracy: 0.36 Test accuracy: 0.3850708\n",
    "- 3 Last batch accuracy: 0.5466667 Test accuracy: 0.39493847\n",
    "- 4 Last batch accuracy: 0.58666664 Test accuracy: 0.39493847\n",
    "- 5 Last batch accuracy: 0.68 Test accuracy: 0.3933132\n",
    "- 6 Last batch accuracy: 0.7733333 Test accuracy: 0.39389366\n",
    "- 7 Last batch accuracy: 0.6533333 Test accuracy: 0.3815881\n",
    "- 8 Last batch accuracy: 0.74666667 Test accuracy: 0.36846992\n",
    "- 9 Last batch accuracy: 0.85333335 Test accuracy: 0.3761319"
   ]
  },
  {
   "cell_type": "markdown",
   "metadata": {},
   "source": [
    "## 6. Transfer Lerning with keras"
   ]
  },
  {
   "cell_type": "code",
   "execution_count": null,
   "metadata": {},
   "outputs": [],
   "source": [
    "from tensorflow.python.keras.models import Model, Sequential\n",
    "from tensorflow.python.keras.layers import Dense, Flatten, Dropout\n",
    "from tensorflow.python.keras.applications import VGG16\n",
    "from tensorflow.python.keras.applications.vgg16 import preprocess_input, decode_predictions\n",
    "from tensorflow.python.keras.preprocessing.image import ImageDataGenerator\n",
    "from tensorflow.python.keras.optimizers import Adam, RMSprop\n"
   ]
  },
  {
   "cell_type": "code",
   "execution_count": null,
   "metadata": {},
   "outputs": [],
   "source": [
    "### Preparing data to use with pretrained keras model"
   ]
  },
  {
   "cell_type": "code",
   "execution_count": null,
   "metadata": {},
   "outputs": [],
   "source": [
    "data=pd.read_csv('image_sentiment/sentiment_data.csv')\n",
    "# reshape image array\n",
    "data['feature']=data.feature.apply(lambda x: np.array(list(map(float,x.split()))).reshape(48,48))\n",
    "# repeat daya along axis to create a 3 channel image\n",
    "data['feature']=data.feature.apply(lambda x: np.stack((x,)*3, axis=-1))"
   ]
  },
  {
   "cell_type": "code",
   "execution_count": null,
   "metadata": {},
   "outputs": [],
   "source": [
    "from sklearn.model_selection import StratifiedShuffleSplit\n",
    "#splitting the data into 80%train set and 20% test set\n",
    "split= StratifiedShuffleSplit(n_splits=1, test_size=0.2, random_state=42)\n",
    "for train_index, test_index in split.split(data, data['label']):\n",
    "    data_train=data.loc[train_index]\n",
    "    data_test=data.loc[test_index]"
   ]
  },
  {
   "cell_type": "code",
   "execution_count": null,
   "metadata": {},
   "outputs": [],
   "source": [
    "train_imgs=np.array(data_train.feature.tolist(),dtype=np.float32)\n",
    "test_imgs=np.array(data_test.feature.tolist(),dtype=np.float32)\n",
    "train_labels=np.array(data_train.label.tolist(),dtype=np.float32)\n",
    "test_labels=np.array(data_test.label.tolist(),dtype=np.float32)\n",
    "X_train = train_imgs.astype(np.float32).reshape(-1, 48,48,3) / 255.0\n",
    "X_test = test_imgs.astype(np.float32).reshape(-1, 48,48,3) / 255.0\n",
    "y_train = train_labels.astype(np.int32)\n",
    "y_test = test_labels.astype(np.int32)"
   ]
  },
  {
   "cell_type": "code",
   "execution_count": null,
   "metadata": {},
   "outputs": [],
   "source": [
    "y_encoded=to_categorical(y_train)"
   ]
  },
  {
   "cell_type": "markdown",
   "metadata": {},
   "source": [
    "### 6.1. Model: VGG16"
   ]
  },
  {
   "cell_type": "markdown",
   "metadata": {},
   "source": [
    "### 6.1 Structure of the model "
   ]
  },
  {
   "cell_type": "markdown",
   "metadata": {},
   "source": [
    "- The VGG16 model has 5 convolution blocks, each one of them followed by one maxPooling layer. Each convolution block performs two or three convolutions with the double of filters of the previous block. After this structure the output of the block5 maxpooling  is flattened and passed through a fully connected layer and then to the fully connected output.\n",
    "- I will freeze all layers of all five blocks and I will use the output of the block5_maxpool as input of the new model.\n",
    "- I changed the input to minimum accpeted 48x48 and I repeated the grayscale image along the three channels because the input accpeted must have three channels.\n",
    "- I flattened the output of the maxpooling block and connected to a new fully connected layer with 128 neurons. I added a dropout layer to minimize overfitting. I added the last fully connected layer with 7 neurons for the 7 classes output propbability."
   ]
  },
  {
   "cell_type": "code",
   "execution_count": null,
   "metadata": {},
   "outputs": [],
   "source": [
    "# instanciate the model with the desired output (48x48x3)\n",
    "model = VGG16(include_top=False, input_shape=(48,48,3),weights='imagenet')"
   ]
  },
  {
   "cell_type": "code",
   "execution_count": null,
   "metadata": {},
   "outputs": [
    {
     "name": "stdout",
     "output_type": "stream",
     "text": [
      "_________________________________________________________________\n",
      "Layer (type)                 Output Shape              Param #   \n",
      "=================================================================\n",
      "input_1 (InputLayer)         (None, 48, 48, 3)         0         \n",
      "_________________________________________________________________\n",
      "block1_conv1 (Conv2D)        (None, 48, 48, 64)        1792      \n",
      "_________________________________________________________________\n",
      "block1_conv2 (Conv2D)        (None, 48, 48, 64)        36928     \n",
      "_________________________________________________________________\n",
      "block1_pool (MaxPooling2D)   (None, 24, 24, 64)        0         \n",
      "_________________________________________________________________\n",
      "block2_conv1 (Conv2D)        (None, 24, 24, 128)       73856     \n",
      "_________________________________________________________________\n",
      "block2_conv2 (Conv2D)        (None, 24, 24, 128)       147584    \n",
      "_________________________________________________________________\n",
      "block2_pool (MaxPooling2D)   (None, 12, 12, 128)       0         \n",
      "_________________________________________________________________\n",
      "block3_conv1 (Conv2D)        (None, 12, 12, 256)       295168    \n",
      "_________________________________________________________________\n",
      "block3_conv2 (Conv2D)        (None, 12, 12, 256)       590080    \n",
      "_________________________________________________________________\n",
      "block3_conv3 (Conv2D)        (None, 12, 12, 256)       590080    \n",
      "_________________________________________________________________\n",
      "block3_pool (MaxPooling2D)   (None, 6, 6, 256)         0         \n",
      "_________________________________________________________________\n",
      "block4_conv1 (Conv2D)        (None, 6, 6, 512)         1180160   \n",
      "_________________________________________________________________\n",
      "block4_conv2 (Conv2D)        (None, 6, 6, 512)         2359808   \n",
      "_________________________________________________________________\n",
      "block4_conv3 (Conv2D)        (None, 6, 6, 512)         2359808   \n",
      "_________________________________________________________________\n",
      "block4_pool (MaxPooling2D)   (None, 3, 3, 512)         0         \n",
      "_________________________________________________________________\n",
      "block5_conv1 (Conv2D)        (None, 3, 3, 512)         2359808   \n",
      "_________________________________________________________________\n",
      "block5_conv2 (Conv2D)        (None, 3, 3, 512)         2359808   \n",
      "_________________________________________________________________\n",
      "block5_conv3 (Conv2D)        (None, 3, 3, 512)         2359808   \n",
      "_________________________________________________________________\n",
      "block5_pool (MaxPooling2D)   (None, 1, 1, 512)         0         \n",
      "=================================================================\n",
      "Total params: 14,714,688\n",
      "Trainable params: 14,714,688\n",
      "Non-trainable params: 0\n",
      "_________________________________________________________________\n"
     ]
    }
   ],
   "source": [
    "model.summary()"
   ]
  },
  {
   "cell_type": "code",
   "execution_count": null,
   "metadata": {},
   "outputs": [
    {
     "data": {
      "text/plain": [
       "<tf.Tensor 'block5_pool/MaxPool:0' shape=(?, 1, 1, 512) dtype=float32>"
      ]
     },
     "execution_count": 40,
     "metadata": {},
     "output_type": "execute_result"
    }
   ],
   "source": [
    "tlearning_layer=model.get_layer('block5_pool')\n",
    "tlearning_layer.output"
   ]
  },
  {
   "cell_type": "code",
   "execution_count": null,
   "metadata": {},
   "outputs": [],
   "source": [
    "before_bottleneck=Model(inputs=model.input, outputs= tlearning_layer.output)"
   ]
  },
  {
   "cell_type": "markdown",
   "metadata": {},
   "source": [
    "### 6.1.1.Building a new model after the bottleneck to process my data"
   ]
  },
  {
   "cell_type": "code",
   "execution_count": null,
   "metadata": {},
   "outputs": [],
   "source": [
    "my_model=Sequential()\n",
    "\n",
    "# add the model before the bottleneck\n",
    "my_model.add(before_bottleneck)\n",
    "\n",
    "# Flatten the output to connect to the dense layer\n",
    "my_model.add(Flatten())\n",
    "\n",
    "# add a fully connected layer with 128 neurons, activation 'relu'\n",
    "my_model.add(Dense(128, activation='relu'))\n",
    "\n",
    "# add a dropout layer to avoid overfitting\n",
    "my_model.add(Dropout(0.3))\n",
    "\n",
    "# Add the layer with the outputs\n",
    "my_model.add(Dense(7,activation='softmax'))\n",
    "\n",
    "# set optimizer to Adam optimizer with slow training rate\n",
    "optimizer= Adam(lr=1e-5)"
   ]
  },
  {
   "cell_type": "code",
   "execution_count": null,
   "metadata": {},
   "outputs": [],
   "source": [
    "# defining loss and metric to calculate estimation \n",
    "loss='categorical_crossentropy'\n",
    "metrics=['accuracy']"
   ]
  },
  {
   "cell_type": "code",
   "execution_count": null,
   "metadata": {},
   "outputs": [],
   "source": [
    "# freeze all layers previous to the bottleneck\n",
    "before_bottleneck.trainable=False"
   ]
  },
  {
   "cell_type": "code",
   "execution_count": null,
   "metadata": {},
   "outputs": [
    {
     "name": "stdout",
     "output_type": "stream",
     "text": [
      "WARNING:tensorflow:From /home/aruiz/.virtualenvs/CSmachineLearning/lib/python3.5/site-packages/tensorflow/python/keras/_impl/keras/backend.py:3086: calling reduce_sum (from tensorflow.python.ops.math_ops) with keep_dims is deprecated and will be removed in a future version.\n",
      "Instructions for updating:\n",
      "keep_dims is deprecated, use keepdims instead\n",
      "WARNING:tensorflow:From /home/aruiz/.virtualenvs/CSmachineLearning/lib/python3.5/site-packages/tensorflow/python/keras/_impl/keras/backend.py:1557: calling reduce_mean (from tensorflow.python.ops.math_ops) with keep_dims is deprecated and will be removed in a future version.\n",
      "Instructions for updating:\n",
      "keep_dims is deprecated, use keepdims instead\n"
     ]
    }
   ],
   "source": [
    "# compile the method with the optimizer and metrics\n",
    "my_model.compile(optimizer=optimizer, loss=loss, metrics=metrics)"
   ]
  },
  {
   "cell_type": "markdown",
   "metadata": {},
   "source": [
    "## 7. Try the model on the training set"
   ]
  },
  {
   "cell_type": "markdown",
   "metadata": {},
   "source": [
    "I used the categorical crossentropy to measure loss because it performs better when applying to classification problems,\n",
    "I used the accuracy as a mesure of performance."
   ]
  },
  {
   "cell_type": "code",
   "execution_count": null,
   "metadata": {},
   "outputs": [],
   "source": [
    "# parameters for training\n",
    "epochs=20\n",
    "steps_per_epoch=100"
   ]
  },
  {
   "cell_type": "code",
   "execution_count": null,
   "metadata": {},
   "outputs": [
    {
     "name": "stdout",
     "output_type": "stream",
     "text": [
      "Epoch 1/20\n",
      "22967/22967 [==============================]22967/22967 [==============================] - 552s 24ms/step - loss: 1.9905 - acc: 0.2243\n",
      "\n",
      "Epoch 2/20\n",
      "21800/22967 [===========================>..]21800/22967 [===========================>..] - ETA: 28s - loss: 1.9271 - acc: 0.2173"
     ]
    }
   ],
   "source": [
    "history=my_model.fit(X_train,y_encoded, batch_size=100,epochs=epochs,shuffle=True)"
   ]
  },
  {
   "cell_type": "markdown",
   "metadata": {},
   "source": [
    "I couldn't run more than two epochs because my RAM was full. I didn't want to risk my processor"
   ]
  },
  {
   "cell_type": "code",
   "execution_count": null,
   "metadata": {},
   "outputs": [],
   "source": []
  }
 ],
 "metadata": {
  "kernelspec": {
   "display_name": "Python 3",
   "language": "python",
   "name": "python3"
  },
  "language_info": {
   "codemirror_mode": {
    "name": "ipython",
    "version": 3
   },
   "file_extension": ".py",
   "mimetype": "text/x-python",
   "name": "python",
   "nbconvert_exporter": "python",
   "pygments_lexer": "ipython3",
   "version": "3.5.2"
  }
 },
 "nbformat": 4,
 "nbformat_minor": 2
}
