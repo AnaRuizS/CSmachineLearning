{
 "cells": [
  {
   "cell_type": "code",
   "execution_count": 304,
   "metadata": {
    "colab": {},
    "colab_type": "code",
    "id": "yT4y2r0TNqiR"
   },
   "outputs": [],
   "source": [
    "import os\n",
    "import numpy as np\n",
    "import pandas as pd\n",
    "%matplotlib inline\n",
    "import matplotlib as mpl\n",
    "import matplotlib.pyplot as plt\n",
    "import warnings\n",
    "warnings.filterwarnings('ignore')\n",
    "import numpy as np\n",
    "import io"
   ]
  },
  {
   "cell_type": "code",
   "execution_count": 305,
   "metadata": {
    "colab": {},
    "colab_type": "code",
    "id": "5s6NtWWJPrI1"
   },
   "outputs": [],
   "source": [
    "import warnings\n",
    "warnings.filterwarnings(\"ignore\", message=\"numpy.dtype size changed\")"
   ]
  },
  {
   "cell_type": "code",
   "execution_count": 306,
   "metadata": {
    "colab": {
     "base_uri": "https://localhost:8080/",
     "height": 54
    },
    "colab_type": "code",
    "executionInfo": {
     "elapsed": 28852,
     "status": "ok",
     "timestamp": 1561144093450,
     "user": {
      "displayName": "Ana G Ruiz",
      "photoUrl": "",
      "userId": "07412477446649969390"
     },
     "user_tz": 240
    },
    "id": "kxS28ZsgPumU",
    "outputId": "f5c14415-73f9-4a6e-b851-c55a16b9bfda"
   },
   "outputs": [],
   "source": [
    "# Code to read csv file \n",
    "comments=pd.read_csv('data/cleaned_comments_all2.csv')"
   ]
  },
  {
   "cell_type": "code",
   "execution_count": 307,
   "metadata": {
    "colab": {},
    "colab_type": "code",
    "id": "vG1s9CLJQhLW"
   },
   "outputs": [],
   "source": [
    "# delete all comments with 1 like or less\n",
    "comments=comments[comments.likeCount > 1]\n",
    "# delete all comments written in other languages\n",
    "comments=comments[comments['language_y']=='en']"
   ]
  },
  {
   "cell_type": "code",
   "execution_count": 308,
   "metadata": {
    "colab": {},
    "colab_type": "code",
    "id": "kbOLONrnQrml"
   },
   "outputs": [],
   "source": [
    "comments.reset_index(inplace=True)"
   ]
  },
  {
   "cell_type": "code",
   "execution_count": 309,
   "metadata": {
    "colab": {},
    "colab_type": "code",
    "id": "vVLSq56cQ6bt"
   },
   "outputs": [],
   "source": [
    "comments.dropna(axis=0, how='any', thresh=None, subset=None, inplace=True)"
   ]
  },
  {
   "cell_type": "code",
   "execution_count": 310,
   "metadata": {
    "colab": {
     "base_uri": "https://localhost:8080/",
     "height": 476
    },
    "colab_type": "code",
    "executionInfo": {
     "elapsed": 34299,
     "status": "ok",
     "timestamp": 1561144098959,
     "user": {
      "displayName": "Ana G Ruiz",
      "photoUrl": "",
      "userId": "07412477446649969390"
     },
     "user_tz": 240
    },
    "id": "8GEHplEAQ9Ri",
    "outputId": "51fa7a14-890a-4bb4-cd54-7164d948e5d0"
   },
   "outputs": [
    {
     "name": "stdout",
     "output_type": "stream",
     "text": [
      "<class 'pandas.core.frame.DataFrame'>\n",
      "Int64Index: 58996 entries, 0 to 58996\n",
      "Data columns (total 20 columns):\n",
      "index            58996 non-null int64\n",
      "Unnamed: 0       58996 non-null int64\n",
      "id               58996 non-null object\n",
      "commentAuthor    58996 non-null object\n",
      "videoId          58996 non-null object\n",
      "commentYear      58996 non-null int64\n",
      "commentMonth     58996 non-null int64\n",
      "commentDay       58996 non-null int64\n",
      "likeCount        58996 non-null int64\n",
      "channelId        58996 non-null object\n",
      "videoTags        58996 non-null object\n",
      "channelTitle     58996 non-null object\n",
      "videoYear        58996 non-null float64\n",
      "videoMonth       58996 non-null float64\n",
      "videoViews       58996 non-null float64\n",
      "text             58996 non-null object\n",
      "community        58996 non-null int64\n",
      "language_y       58996 non-null object\n",
      "translation      58996 non-null object\n",
      "cleaned          58996 non-null object\n",
      "dtypes: float64(3), int64(7), object(10)\n",
      "memory usage: 9.5+ MB\n"
     ]
    }
   ],
   "source": [
    "comments.info()"
   ]
  },
  {
   "cell_type": "code",
   "execution_count": 311,
   "metadata": {
    "colab": {
     "base_uri": "https://localhost:8080/",
     "height": 369
    },
    "colab_type": "code",
    "executionInfo": {
     "elapsed": 36719,
     "status": "ok",
     "timestamp": 1561144101408,
     "user": {
      "displayName": "Ana G Ruiz",
      "photoUrl": "",
      "userId": "07412477446649969390"
     },
     "user_tz": 240
    },
    "id": "__7uFAExRNWm",
    "outputId": "433a08b7-d364-448a-d7fb-b4bf4c7e4ab3"
   },
   "outputs": [
    {
     "data": {
      "image/png": "[encoded data removed]",
      "text/plain": [
       "<Figure size 1080x360 with 12 Axes>"
      ]
     },
     "metadata": {
      "needs_background": "light"
     },
     "output_type": "display_data"
    }
   ],
   "source": [
    "comments.hist(bins=50, figsize=(15,5))\n",
    "plt.tight_layout()\n",
    "plt.show()"
   ]
  },
  {
   "cell_type": "code",
   "execution_count": 312,
   "metadata": {
    "colab": {
     "base_uri": "https://localhost:8080/",
     "height": 993
    },
    "colab_type": "code",
    "executionInfo": {
     "elapsed": 55135,
     "status": "ok",
     "timestamp": 1561144119853,
     "user": {
      "displayName": "Ana G Ruiz",
      "photoUrl": "",
      "userId": "07412477446649969390"
     },
     "user_tz": 240
    },
    "id": "rLl-qgWzRUn8",
    "outputId": "1e1a5ffc-e4d3-4ce0-f668-448fa5e9df6d"
   },
   "outputs": [
    {
     "data": {
      "text/plain": [
       "array([[<matplotlib.axes._subplots.AxesSubplot object at 0x7fd6f09ed780>,\n",
       "        <matplotlib.axes._subplots.AxesSubplot object at 0x7fd6fa8dd4a8>,\n",
       "        <matplotlib.axes._subplots.AxesSubplot object at 0x7fd6f9a1d8d0>,\n",
       "        <matplotlib.axes._subplots.AxesSubplot object at 0x7fd6fb112e48>,\n",
       "        <matplotlib.axes._subplots.AxesSubplot object at 0x7fd6f0695400>],\n",
       "       [<matplotlib.axes._subplots.AxesSubplot object at 0x7fd6fa98c978>,\n",
       "        <matplotlib.axes._subplots.AxesSubplot object at 0x7fd6f029eef0>,\n",
       "        <matplotlib.axes._subplots.AxesSubplot object at 0x7fd6f02cd4a8>,\n",
       "        <matplotlib.axes._subplots.AxesSubplot object at 0x7fd6f030ea20>,\n",
       "        <matplotlib.axes._subplots.AxesSubplot object at 0x7fd6f0309f98>],\n",
       "       [<matplotlib.axes._subplots.AxesSubplot object at 0x7fd6f04e4550>,\n",
       "        <matplotlib.axes._subplots.AxesSubplot object at 0x7fd6f06d9ac8>,\n",
       "        <matplotlib.axes._subplots.AxesSubplot object at 0x7fd6ef024080>,\n",
       "        <matplotlib.axes._subplots.AxesSubplot object at 0x7fd6f09be5f8>,\n",
       "        <matplotlib.axes._subplots.AxesSubplot object at 0x7fd6f09bdb70>],\n",
       "       [<matplotlib.axes._subplots.AxesSubplot object at 0x7fd6f9eb4128>,\n",
       "        <matplotlib.axes._subplots.AxesSubplot object at 0x7fd6f05b76a0>,\n",
       "        <matplotlib.axes._subplots.AxesSubplot object at 0x7fd6f9a7ac18>,\n",
       "        <matplotlib.axes._subplots.AxesSubplot object at 0x7fd6f9a431d0>,\n",
       "        <matplotlib.axes._subplots.AxesSubplot object at 0x7fd6f12c3748>],\n",
       "       [<matplotlib.axes._subplots.AxesSubplot object at 0x7fd6fa9e7cc0>,\n",
       "        <matplotlib.axes._subplots.AxesSubplot object at 0x7fd6fa9d0278>,\n",
       "        <matplotlib.axes._subplots.AxesSubplot object at 0x7fd6f07e57f0>,\n",
       "        <matplotlib.axes._subplots.AxesSubplot object at 0x7fd6f07e4d68>,\n",
       "        <matplotlib.axes._subplots.AxesSubplot object at 0x7fd6f0219320>]],\n",
       "      dtype=object)"
      ]
     },
     "execution_count": 312,
     "metadata": {},
     "output_type": "execute_result"
    },
    {
     "data": {
      "image/png": "[encoded data removed]",
      "text/plain": [
       "<Figure size 864x576 with 25 Axes>"
      ]
     },
     "metadata": {
      "needs_background": "light"
     },
     "output_type": "display_data"
    }
   ],
   "source": [
    "from pandas.plotting import scatter_matrix\n",
    "\n",
    "attributes = ['commentYear', 'likeCount' ,'videoYear','videoViews','community']\n",
    "scatter_matrix(comments[attributes], figsize=(12, 8))"
   ]
  },
  {
   "cell_type": "code",
   "execution_count": 313,
   "metadata": {
    "colab": {
     "base_uri": "https://localhost:8080/",
     "height": 182
    },
    "colab_type": "code",
    "executionInfo": {
     "elapsed": 55117,
     "status": "ok",
     "timestamp": 1561144119860,
     "user": {
      "displayName": "Ana G Ruiz",
      "photoUrl": "",
      "userId": "07412477446649969390"
     },
     "user_tz": 240
    },
    "id": "gO65Sir8Q-sE",
    "outputId": "32cf1d86-c5d2-4138-e947-2d06627dc843"
   },
   "outputs": [
    {
     "data": {
      "text/plain": [
       "12                 memories blue xephos much nostalgia \n",
       "13                                     back lewis noob \n",
       "14    remember correctly videos one main reasons lea...\n",
       "15                                     simon smart one \n",
       "16    back minecraft fun mainly survival games mini-...\n",
       "17                                   literally classic \n",
       "18                              else rewatching series \n",
       "19                 remember watched years ago miss tbh \n",
       "Name: cleaned, dtype: object"
      ]
     },
     "execution_count": 313,
     "metadata": {},
     "output_type": "execute_result"
    }
   ],
   "source": [
    "comments.cleaned[12:20]"
   ]
  },
  {
   "cell_type": "code",
   "execution_count": 314,
   "metadata": {
    "colab": {},
    "colab_type": "code",
    "id": "UroS43U4RcjD"
   },
   "outputs": [],
   "source": [
    "comments.drop(labels=['Unnamed: 0','language_y','translation'], axis=1,inplace=True)"
   ]
  },
  {
   "cell_type": "code",
   "execution_count": 315,
   "metadata": {
    "colab": {
     "base_uri": "https://localhost:8080/",
     "height": 109
    },
    "colab_type": "code",
    "executionInfo": {
     "elapsed": 55100,
     "status": "ok",
     "timestamp": 1561144119874,
     "user": {
      "displayName": "Ana G Ruiz",
      "photoUrl": "",
      "userId": "07412477446649969390"
     },
     "user_tz": 240
    },
    "id": "t8qyCDvnRigQ",
    "outputId": "665320b3-ff25-4cc3-c87c-c6b37aec4a71"
   },
   "outputs": [
    {
     "data": {
      "text/plain": [
       "Index(['index', 'id', 'commentAuthor', 'videoId', 'commentYear',\n",
       "       'commentMonth', 'commentDay', 'likeCount', 'channelId', 'videoTags',\n",
       "       'channelTitle', 'videoYear', 'videoMonth', 'videoViews', 'text',\n",
       "       'community', 'cleaned'],\n",
       "      dtype='object')"
      ]
     },
     "execution_count": 315,
     "metadata": {},
     "output_type": "execute_result"
    }
   ],
   "source": [
    "comments.columns"
   ]
  },
  {
   "cell_type": "markdown",
   "metadata": {
    "colab_type": "text",
    "id": "jW9_imgweK84"
   },
   "source": [
    "Add column to check if the commenter is the author or channel that posted one of the trending videos"
   ]
  },
  {
   "cell_type": "code",
   "execution_count": 316,
   "metadata": {
    "colab": {},
    "colab_type": "code",
    "id": "3jP33bSJeCL9"
   },
   "outputs": [],
   "source": [
    "s=comments.channelId.value_counts().index.tolist()"
   ]
  },
  {
   "cell_type": "code",
   "execution_count": 317,
   "metadata": {
    "colab": {},
    "colab_type": "code",
    "id": "DwWSZcvKeFHT"
   },
   "outputs": [],
   "source": [
    "comments['isAuthorVideo']=comments.commentAuthor.apply(lambda x: x in s)"
   ]
  },
  {
   "cell_type": "code",
   "execution_count": 318,
   "metadata": {
    "colab": {
     "base_uri": "https://localhost:8080/",
     "height": 72
    },
    "colab_type": "code",
    "executionInfo": {
     "elapsed": 55186,
     "status": "ok",
     "timestamp": 1561144119993,
     "user": {
      "displayName": "Ana G Ruiz",
      "photoUrl": "",
      "userId": "07412477446649969390"
     },
     "user_tz": 240
    },
    "id": "I9Td2ONGeIP5",
    "outputId": "bfe8d672-139a-4b96-a09a-a2e9c426c8af"
   },
   "outputs": [
    {
     "data": {
      "text/plain": [
       "False    58741\n",
       "True       255\n",
       "Name: isAuthorVideo, dtype: int64"
      ]
     },
     "execution_count": 318,
     "metadata": {},
     "output_type": "execute_result"
    }
   ],
   "source": [
    "comments.isAuthorVideo.value_counts()"
   ]
  },
  {
   "cell_type": "markdown",
   "metadata": {
    "colab_type": "text",
    "id": "AW2bORovef6G"
   },
   "source": [
    "## Categorize variable like count"
   ]
  },
  {
   "cell_type": "code",
   "execution_count": 319,
   "metadata": {
    "colab": {
     "base_uri": "https://localhost:8080/",
     "height": 127
    },
    "colab_type": "code",
    "executionInfo": {
     "elapsed": 55155,
     "status": "ok",
     "timestamp": 1561144119994,
     "user": {
      "displayName": "Ana G Ruiz",
      "photoUrl": "",
      "userId": "07412477446649969390"
     },
     "user_tz": 240
    },
    "id": "R5QbMfBzesYQ",
    "outputId": "433cfa6c-5fe7-4d72-c16a-08e8a798f5ce"
   },
   "outputs": [
    {
     "data": {
      "text/plain": [
       "0.2      3.0\n",
       "0.4      5.0\n",
       "0.6     14.0\n",
       "0.8     51.0\n",
       "0.9    124.0\n",
       "Name: likeCount, dtype: float64"
      ]
     },
     "execution_count": 319,
     "metadata": {},
     "output_type": "execute_result"
    }
   ],
   "source": [
    "comments.likeCount.quantile([0.2,0.4,0.6,0.8,0.9])"
   ]
  },
  {
   "cell_type": "code",
   "execution_count": 320,
   "metadata": {
    "colab": {},
    "colab_type": "code",
    "id": "Ci_HppXTeVLC"
   },
   "outputs": [],
   "source": [
    "bins=[1,3,5,14,51,124, np.inf]\n",
    "names=['2-3','4-5','6-14','15-51','52-124','125-28088']\n",
    "comments['likeClasses'] = pd.cut(comments['likeCount'], bins, labels=names, \n",
    "                                 right=True)"
   ]
  },
  {
   "cell_type": "code",
   "execution_count": 321,
   "metadata": {
    "colab": {
     "base_uri": "https://localhost:8080/",
     "height": 146
    },
    "colab_type": "code",
    "executionInfo": {
     "elapsed": 55130,
     "status": "ok",
     "timestamp": 1561144120003,
     "user": {
      "displayName": "Ana G Ruiz",
      "photoUrl": "",
      "userId": "07412477446649969390"
     },
     "user_tz": 240
    },
    "id": "nmrF2FcYepng",
    "outputId": "fae783c6-cd63-4bfd-b133-7322a17bcc6e"
   },
   "outputs": [
    {
     "data": {
      "text/plain": [
       "2-3          0.280680\n",
       "6-14         0.203438\n",
       "15-51        0.193674\n",
       "4-5          0.124432\n",
       "125-28088    0.099922\n",
       "52-124       0.097854\n",
       "Name: likeClasses, dtype: float64"
      ]
     },
     "execution_count": 321,
     "metadata": {},
     "output_type": "execute_result"
    }
   ],
   "source": [
    "comments.likeClasses.value_counts()/len(comments)"
   ]
  },
  {
   "cell_type": "markdown",
   "metadata": {
    "colab_type": "text",
    "id": "JQpLqhOpe9KR"
   },
   "source": [
    "## Categorize variable community"
   ]
  },
  {
   "cell_type": "code",
   "execution_count": 322,
   "metadata": {
    "colab": {},
    "colab_type": "code",
    "id": "46OvhPawe2UL"
   },
   "outputs": [],
   "source": [
    "from sklearn.preprocessing import OneHotEncoder\n",
    "from sklearn.preprocessing import LabelEncoder\n",
    "likeClasses = comments.likeClasses\n",
    "le = LabelEncoder()\n",
    "like_encoded=le.fit_transform(likeClasses)"
   ]
  },
  {
   "cell_type": "code",
   "execution_count": 323,
   "metadata": {
    "colab": {},
    "colab_type": "code",
    "id": "K7WjiEHafG3k"
   },
   "outputs": [],
   "source": [
    "comments.drop(['videoTags'],axis=1,inplace=True)\n",
    "comments.drop(['channelTitle'], axis=1, inplace=True)"
   ]
  },
  {
   "cell_type": "markdown",
   "metadata": {
    "colab_type": "text",
    "id": "8ShTLXgDfcOD"
   },
   "source": [
    "## Creating variables comment length and char"
   ]
  },
  {
   "cell_type": "code",
   "execution_count": 324,
   "metadata": {
    "colab": {},
    "colab_type": "code",
    "id": "irORP5-pfOvq"
   },
   "outputs": [],
   "source": [
    "comments['commentLength']=comments.text.apply(lambda x: len(x.split()))"
   ]
  },
  {
   "cell_type": "code",
   "execution_count": 325,
   "metadata": {
    "colab": {},
    "colab_type": "code",
    "id": "vUW-zVrefgpX"
   },
   "outputs": [],
   "source": [
    "comments['charLength']=comments.text.apply(lambda x:len(x) )"
   ]
  },
  {
   "cell_type": "code",
   "execution_count": 326,
   "metadata": {
    "colab": {},
    "colab_type": "code",
    "id": "hRM5n4cMfkrY"
   },
   "outputs": [],
   "source": [
    "comments.drop(['id'],axis=1,inplace=True)\n",
    "comments.drop(['text'],axis=1,inplace=True)"
   ]
  },
  {
   "cell_type": "code",
   "execution_count": 327,
   "metadata": {
    "colab": {},
    "colab_type": "code",
    "id": "F-B0lXk6fypj"
   },
   "outputs": [],
   "source": [
    "comments.drop(['likeClasses'],axis=1,inplace=True)"
   ]
  },
  {
   "cell_type": "code",
   "execution_count": 328,
   "metadata": {
    "colab": {
     "base_uri": "https://localhost:8080/",
     "height": 109
    },
    "colab_type": "code",
    "executionInfo": {
     "elapsed": 56092,
     "status": "ok",
     "timestamp": 1561144121007,
     "user": {
      "displayName": "Ana G Ruiz",
      "photoUrl": "",
      "userId": "07412477446649969390"
     },
     "user_tz": 240
    },
    "id": "mEflogoqgMOw",
    "outputId": "b22923fb-f268-42a4-f555-385e4db8188e"
   },
   "outputs": [
    {
     "data": {
      "text/plain": [
       "Index(['index', 'commentAuthor', 'videoId', 'commentYear', 'commentMonth',\n",
       "       'commentDay', 'likeCount', 'channelId', 'videoYear', 'videoMonth',\n",
       "       'videoViews', 'community', 'cleaned', 'isAuthorVideo', 'commentLength',\n",
       "       'charLength'],\n",
       "      dtype='object')"
      ]
     },
     "execution_count": 328,
     "metadata": {},
     "output_type": "execute_result"
    }
   ],
   "source": [
    "comments.columns"
   ]
  },
  {
   "cell_type": "markdown",
   "metadata": {
    "colab_type": "text",
    "id": "rSa_hLhKgaPD"
   },
   "source": [
    "## Add embeding with word2vec"
   ]
  },
  {
   "cell_type": "code",
   "execution_count": 329,
   "metadata": {
    "colab": {},
    "colab_type": "code",
    "id": "YwzC5ifsgklT"
   },
   "outputs": [],
   "source": [
    "import numpy\n",
    "import multiprocessing\n",
    "from gensim.corpora.wikicorpus import WikiCorpus\n",
    "from gensim.models import Word2Vec"
   ]
  },
  {
   "cell_type": "markdown",
   "metadata": {
    "colab_type": "text",
    "id": "owLCDfv8lPw1"
   },
   "source": [
    "### Using the vocabulary provided by the same comments"
   ]
  },
  {
   "cell_type": "code",
   "execution_count": 330,
   "metadata": {
    "colab": {},
    "colab_type": "code",
    "id": "HGfCHYPsgq78"
   },
   "outputs": [],
   "source": [
    "sentences=comments.cleaned.apply(lambda x: x.split()).tolist()\n",
    "model= Word2Vec(sentences)\n",
    "w2v = dict(zip(model.wv.index2word, model.wv.syn0))"
   ]
  },
  {
   "cell_type": "code",
   "execution_count": 331,
   "metadata": {
    "colab": {
     "base_uri": "https://localhost:8080/",
     "height": 55
    },
    "colab_type": "code",
    "executionInfo": {
     "elapsed": 238,
     "status": "ok",
     "timestamp": 1561144684100,
     "user": {
      "displayName": "Ana G Ruiz",
      "photoUrl": "",
      "userId": "07412477446649969390"
     },
     "user_tz": 240
    },
    "id": "Ti06w7r3dRwn",
    "outputId": "663875ec-7b82-4912-d204-c9675fc8c08d"
   },
   "outputs": [
    {
     "name": "stdout",
     "output_type": "stream",
     "text": [
      "[('miss', 0.9152673482894897), ('ol', 0.9063053131103516), ('days', 0.8892701864242554), ('ole', 0.884341835975647), ('ah', 0.8840513229370117), ('ahh', 0.8809301853179932), ('good', 0.8573359251022339), ('memories', 0.8474450707435608), ('personalities', 0.8352455496788025), ('sky', 0.8308360576629639)]\n"
     ]
    }
   ],
   "source": [
    "similar_words = model.most_similar('old')\n",
    "print(similar_words)"
   ]
  },
  {
   "cell_type": "code",
   "execution_count": 332,
   "metadata": {
    "colab": {
     "base_uri": "https://localhost:8080/",
     "height": 35
    },
    "colab_type": "code",
    "executionInfo": {
     "elapsed": 1486,
     "status": "ok",
     "timestamp": 1561145006216,
     "user": {
      "displayName": "Ana G Ruiz",
      "photoUrl": "",
      "userId": "07412477446649969390"
     },
     "user_tz": 240
    },
    "id": "vzlnt4YNedcS",
    "outputId": "757ac993-75b5-44ae-e9ca-1866e5154107"
   },
   "outputs": [
    {
     "name": "stdout",
     "output_type": "stream",
     "text": [
      "please\n"
     ]
    }
   ],
   "source": [
    "dissimlar_words = model.doesnt_match(['gamer', 'youtuber', 'lp', 'please'])\n",
    "print(dissimlar_words)"
   ]
  },
  {
   "cell_type": "code",
   "execution_count": 333,
   "metadata": {
    "colab": {
     "base_uri": "https://localhost:8080/",
     "height": 55
    },
    "colab_type": "code",
    "executionInfo": {
     "elapsed": 183,
     "status": "ok",
     "timestamp": 1561145035437,
     "user": {
      "displayName": "Ana G Ruiz",
      "photoUrl": "",
      "userId": "07412477446649969390"
     },
     "user_tz": 240
    },
    "id": "ciQ5jPI3e6JW",
    "outputId": "7aa3bcfe-72fb-4d5a-ce20-64fea4b9bd0a"
   },
   "outputs": [
    {
     "name": "stdout",
     "output_type": "stream",
     "text": [
      "[('mad', 0.996613085269928), ('okay', 0.9955762028694153), ('cause', 0.9955294132232666), ('stand', 0.9949883222579956), ('tired', 0.994465172290802), ('telling', 0.9942898750305176), ('dating', 0.9940150380134583), ('spoilers', 0.9929722547531128), ('cuz', 0.9925074577331543), ('happens', 0.9924617409706116)]\n"
     ]
    }
   ],
   "source": [
    "similar = model.similar_by_word('lose')\n",
    "print(similar)"
   ]
  },
  {
   "cell_type": "code",
   "execution_count": 334,
   "metadata": {},
   "outputs": [
    {
     "data": {
      "text/plain": [
       "array([ 0.27481264, -0.20679942,  0.0027811 , -0.10080836,  0.2825214 ,\n",
       "        0.10537706, -0.12342405, -0.19630359,  0.02604649,  0.14603442,\n",
       "       -0.03443415, -0.12850712, -0.22855608,  0.17429304,  0.18214832,\n",
       "        0.02152368,  0.05764313,  0.28480983,  0.3012451 ,  0.1144025 ,\n",
       "        0.41124144, -0.18805312, -0.2348755 , -0.34211144, -0.02509572,\n",
       "        0.35465103, -0.2063741 , -0.25602183,  0.28348815, -0.12294787,\n",
       "       -0.24045908, -0.12759271,  0.14693324, -0.05770347, -0.04435356,\n",
       "        0.327022  , -0.17246135,  0.02728998, -0.06115655, -0.26250967,\n",
       "       -0.07581861,  0.14252113,  0.05790742, -0.04703137,  0.11299355,\n",
       "        0.0564165 , -0.10273403,  0.02366109, -0.3076976 , -0.07862013,\n",
       "       -0.09589317,  0.09357141,  0.05272765,  0.02467748,  0.374079  ,\n",
       "        0.03689453, -0.37189442, -0.05065564, -0.0820476 , -0.08465633,\n",
       "        0.0114582 , -0.08375335, -0.17926772,  0.11697725,  0.19177864,\n",
       "        0.14153105,  0.11612222, -0.04676969, -0.08398061,  0.2722093 ,\n",
       "        0.3036192 ,  0.14804299,  0.27179807,  0.19111578,  0.00769908,\n",
       "       -0.00257941, -0.00454857, -0.00634765, -0.100986  , -0.33272195,\n",
       "        0.20590515,  0.24756673, -0.24226671,  0.13614793, -0.1575119 ,\n",
       "       -0.2199559 , -0.09233206,  0.08759594, -0.12904081,  0.10185416,\n",
       "        0.0125059 , -0.29864845, -0.34293696,  0.13728257,  0.16459998,\n",
       "        0.01901606, -0.16791807,  0.09039582,  0.06816012,  0.26360896],\n",
       "      dtype=float32)"
      ]
     },
     "execution_count": 334,
     "metadata": {},
     "output_type": "execute_result"
    }
   ],
   "source": [
    "w2v['noob']"
   ]
  },
  {
   "cell_type": "markdown",
   "metadata": {
    "colab_type": "text",
    "id": "-waBGpw8lK6o"
   },
   "source": [
    "### Using wiki corpus latest english articles"
   ]
  },
  {
   "cell_type": "code",
   "execution_count": 335,
   "metadata": {
    "colab": {},
    "colab_type": "code",
    "id": "bavIHL26gux1"
   },
   "outputs": [],
   "source": [
    "# wiki = WikiCorpus('data/enwiki-latest-pages-articles.xml.bz2', \n",
    "#                   lemmatize=False, dictionary={})\n",
    "# sentences = list(wiki.get_texts())\n",
    "# params = {'size': 200, 'window': 10, 'min_count': 10, \n",
    "#           'workers': max(1, multiprocessing.cpu_count() - 1), 'sample': 1E-3,}\n",
    "# word2vec = Word2Vec(sentences, **params)"
   ]
  },
  {
   "cell_type": "markdown",
   "metadata": {},
   "source": [
    "### Method to process comments using language model"
   ]
  },
  {
   "cell_type": "code",
   "execution_count": 336,
   "metadata": {
    "colab": {},
    "colab_type": "code",
    "id": "ofUUHlcSgzyJ"
   },
   "outputs": [],
   "source": [
    "from sklearn.base import BaseEstimator, TransformerMixin"
   ]
  },
  {
   "cell_type": "code",
   "execution_count": 337,
   "metadata": {},
   "outputs": [],
   "source": [
    "class MeanEmbeddingVectorizer(BaseEstimator, TransformerMixin):\n",
    "    def __init__(self, word2vec):\n",
    "        self.word2vec = word2vec\n",
    "        # if a text is empty we should return a vector of zeros\n",
    "        # with the same dimensionality as all the other vectors\n",
    "        self.dim = 100\n",
    "\n",
    "    def fit(self, X, y=None):\n",
    "        return self\n",
    "\n",
    "    def transform(self, X, y=None):\n",
    "        \n",
    "        for words in X:\n",
    "            print (type(X))\n",
    "\n",
    "        arr= np.array([\n",
    "            np.mean([self.word2vec[w] for w in words.split() if w in self.word2vec]\n",
    "                    or [np.zeros(100)], axis=0)\n",
    "            for words in X.cleaned\n",
    "        ])\n",
    "        print(arr.shape)\n",
    "        return (arr)"
   ]
  },
  {
   "cell_type": "markdown",
   "metadata": {
    "colab_type": "text",
    "id": "VkB41J8umkDi"
   },
   "source": [
    "## Transform columns and merge dataset"
   ]
  },
  {
   "cell_type": "code",
   "execution_count": 338,
   "metadata": {
    "colab": {},
    "colab_type": "code",
    "id": "HXnqGDG9l9IH"
   },
   "outputs": [],
   "source": [
    "from sklearn.compose import ColumnTransformer\n",
    "from sklearn.pipeline import Pipeline\n",
    "from sklearn.preprocessing import StandardScaler\n",
    "from sklearn.preprocessing import MinMaxScaler\n",
    "from sklearn.feature_extraction.text import CountVectorizer\n",
    "from sklearn.feature_extraction.text import TfidfTransformer"
   ]
  },
  {
   "cell_type": "code",
   "execution_count": 339,
   "metadata": {
    "colab": {},
    "colab_type": "code",
    "id": "tpqGI03mmu-i"
   },
   "outputs": [],
   "source": [
    "num_pipeline = Pipeline([\n",
    "        ('std_scaler', MinMaxScaler([0,1])),\n",
    "])"
   ]
  },
  {
   "cell_type": "code",
   "execution_count": 340,
   "metadata": {
    "colab": {},
    "colab_type": "code",
    "id": "GT3yQUfomzZN"
   },
   "outputs": [],
   "source": [
    "cat_pipeline = Pipeline([\n",
    "        ('one_hot_encoder', OneHotEncoder()),\n",
    "])"
   ]
  },
  {
   "cell_type": "code",
   "execution_count": 341,
   "metadata": {
    "colab": {},
    "colab_type": "code",
    "id": "dElZDHxRm5OW"
   },
   "outputs": [],
   "source": [
    "class ModifiedLabelEncoder(LabelEncoder):\n",
    "\n",
    "    def fit_transform(self, y, *args, **kwargs):\n",
    "        return super().fit_transform(y).reshape(-1, 1)\n",
    "\n",
    "    def transform(self, y, *args, **kwargs):\n",
    "        return super().transform(y).reshape(-1, 1)"
   ]
  },
  {
   "cell_type": "code",
   "execution_count": 342,
   "metadata": {
    "colab": {},
    "colab_type": "code",
    "id": "Fc1dnmYFm9Zc"
   },
   "outputs": [],
   "source": [
    "text_pipeline=Pipeline([\n",
    "    ('word2vec',MeanEmbeddingVectorizer(w2v) ),\n",
    "    ('std_scaler', MinMaxScaler([0,1])),\n",
    "])"
   ]
  },
  {
   "cell_type": "code",
   "execution_count": 343,
   "metadata": {
    "colab": {
     "base_uri": "https://localhost:8080/",
     "height": 362
    },
    "colab_type": "code",
    "executionInfo": {
     "elapsed": 183,
     "status": "error",
     "timestamp": 1561145332644,
     "user": {
      "displayName": "Ana G Ruiz",
      "photoUrl": "",
      "userId": "07412477446649969390"
     },
     "user_tz": 240
    },
    "id": "MxNPhwHGnG4X",
    "outputId": "9570da01-815b-4755-ceb8-f2e2afb6005a"
   },
   "outputs": [
    {
     "name": "stdout",
     "output_type": "stream",
     "text": [
      "<class 'pandas.core.frame.DataFrame'>\n",
      "(58996, 100)\n"
     ]
    }
   ],
   "source": [
    "num_attribs = ['commentMonth', 'commentDay', 'videoYear', 'videoMonth', \n",
    "               'videoViews', 'commentLength','charLength','commentYear']\n",
    "cat_attribs = [\"community\",'videoId','isAuthorVideo']\n",
    "cat_attribs2=['channelId']\n",
    "text_attribs= ['cleaned']\n",
    "\n",
    "full_pipeline = ColumnTransformer([\n",
    "  (\"num\", num_pipeline, num_attribs),\n",
    "  (\"cat\", cat_pipeline, cat_attribs),\n",
    "  (\"cat2\", ModifiedLabelEncoder(), cat_attribs2),\n",
    "  (\"word2vec vectorizer\", text_pipeline, text_attribs),\n",
    "])\n",
    "\n",
    "comments_prepared = full_pipeline.fit_transform(comments)\n"
   ]
  },
  {
   "cell_type": "markdown",
   "metadata": {
    "colab_type": "text",
    "id": "BBZ17k2ool2P"
   },
   "source": [
    "## Creating new dataset with Count Vectorizer (BOW)"
   ]
  },
  {
   "cell_type": "code",
   "execution_count": 344,
   "metadata": {
    "colab": {},
    "colab_type": "code",
    "id": "Q8ZBz6O4oxyn"
   },
   "outputs": [],
   "source": [
    "count_vect = CountVectorizer(ngram_range=(1,2),dtype=np.int64)\n",
    "text_counts = count_vect.fit_transform(comments.cleaned)\n",
    "tfidf_transformer = TfidfTransformer(use_idf=True)\n",
    "X_train_tfidf = tfidf_transformer.fit_transform(text_counts)"
   ]
  },
  {
   "cell_type": "code",
   "execution_count": 345,
   "metadata": {
    "colab": {
     "base_uri": "https://localhost:8080/",
     "height": 68
    },
    "colab_type": "code",
    "executionInfo": {
     "elapsed": 116835,
     "status": "ok",
     "timestamp": 1554213192268,
     "user": {
      "displayName": "Ana G Ruiz",
      "photoUrl": "",
      "userId": "07412477446649969390"
     },
     "user_tz": 240
    },
    "id": "x_sVt67_1YIE",
    "outputId": "01700016-e3b1-48be-8316-c1e9e5f7fd44"
   },
   "outputs": [
    {
     "name": "stdout",
     "output_type": "stream",
     "text": [
      "(58996, 264423)\n",
      "(58996, 2710)\n"
     ]
    }
   ],
   "source": [
    "print(X_train_tfidf.shape)\n",
    "print(comments_prepared.shape)"
   ]
  },
  {
   "cell_type": "markdown",
   "metadata": {
    "colab_type": "text",
    "id": "nZqOGQgipYzO"
   },
   "source": [
    "## Split train and test set"
   ]
  },
  {
   "cell_type": "markdown",
   "metadata": {
    "colab_type": "text",
    "id": "lgc_sNfcqLDc"
   },
   "source": [
    "### Merged dataset with BOW"
   ]
  },
  {
   "cell_type": "code",
   "execution_count": 346,
   "metadata": {
    "colab": {},
    "colab_type": "code",
    "id": "kmETCLN-pfp1"
   },
   "outputs": [],
   "source": [
    "from sklearn.model_selection import train_test_split"
   ]
  },
  {
   "cell_type": "code",
   "execution_count": 347,
   "metadata": {
    "colab": {},
    "colab_type": "code",
    "id": "zp77TDgupnA9"
   },
   "outputs": [],
   "source": [
    "X= text_counts\n",
    "y= like_encoded\n",
    "X_train, X_test, y_train, y_test = train_test_split(X, y, test_size=0.2, random_state=0,stratify=like_encoded)"
   ]
  },
  {
   "cell_type": "code",
   "execution_count": 348,
   "metadata": {
    "colab": {},
    "colab_type": "code",
    "id": "10NhPLkhpuPt"
   },
   "outputs": [
    {
     "name": "stdout",
     "output_type": "stream",
     "text": [
      "(47196, 264423)+(11800, 264423)\n"
     ]
    }
   ],
   "source": [
    "print(str(X_train.shape)+\"+\"+str(X_test.shape))"
   ]
  },
  {
   "cell_type": "code",
   "execution_count": 349,
   "metadata": {
    "colab": {},
    "colab_type": "code",
    "id": "dIYsLAmUp0G2"
   },
   "outputs": [
    {
     "name": "stdout",
     "output_type": "stream",
     "text": [
      "(47196,)+(11800,)\n"
     ]
    }
   ],
   "source": [
    "print(str(y_train.shape)+\"+\"+str(y_test.shape))"
   ]
  },
  {
   "cell_type": "markdown",
   "metadata": {
    "colab_type": "text",
    "id": "dEitBeS2qQHl"
   },
   "source": [
    "### Merged dataset with Word2vec"
   ]
  },
  {
   "cell_type": "code",
   "execution_count": 350,
   "metadata": {
    "colab": {},
    "colab_type": "code",
    "id": "anVTGxNaqVq6"
   },
   "outputs": [],
   "source": [
    "X= comments_prepared\n",
    "y = like_encoded\n",
    "X_train_w2v, X_test_w2v, y_train_w2v, y_test_w2v = train_test_split(X, y, test_size=0.2, random_state=0, stratify=like_encoded)"
   ]
  },
  {
   "cell_type": "code",
   "execution_count": 351,
   "metadata": {
    "colab": {},
    "colab_type": "code",
    "id": "9WL6F-02quRo"
   },
   "outputs": [
    {
     "name": "stdout",
     "output_type": "stream",
     "text": [
      "(47196, 2710)+(11800, 2710)\n"
     ]
    }
   ],
   "source": [
    "print(str(X_train_w2v.shape)+\"+\"+str(X_test_w2v.shape))"
   ]
  },
  {
   "cell_type": "code",
   "execution_count": 352,
   "metadata": {
    "colab": {},
    "colab_type": "code",
    "id": "mDvCmO1Hq1-n"
   },
   "outputs": [
    {
     "name": "stdout",
     "output_type": "stream",
     "text": [
      "(47196,)+(11800,)\n"
     ]
    }
   ],
   "source": [
    "print(str(y_train_w2v.shape)+\"+\"+str(y_test_w2v.shape))"
   ]
  },
  {
   "cell_type": "markdown",
   "metadata": {
    "colab_type": "text",
    "id": "YlXOvJWfq67P"
   },
   "source": [
    "## Train Classifiers"
   ]
  },
  {
   "cell_type": "code",
   "execution_count": 369,
   "metadata": {},
   "outputs": [],
   "source": [
    "# Import classifiers\n",
    "from sklearn.linear_model import LogisticRegression\n",
    "from sklearn import linear_model\n",
    "from sklearn.naive_bayes import MultinomialNB \n",
    "from sklearn import svm\n",
    "from sklearn.ensemble import RandomForestClassifier\n",
    "\n",
    "# Import evaluation metrics\n",
    "from sklearn.metrics import recall_score\n",
    "from sklearn.metrics import precision_score\n",
    "from sklearn.metrics import classification_report\n",
    "from sklearn.metrics import confusion_matrix \n",
    "import seaborn as sns"
   ]
  },
  {
   "cell_type": "markdown",
   "metadata": {},
   "source": [
    "### 1. Logistic Regression"
   ]
  },
  {
   "cell_type": "code",
   "execution_count": 354,
   "metadata": {
    "colab": {},
    "colab_type": "code",
    "id": "Rj3hpjxPrCQM"
   },
   "outputs": [],
   "source": [
    "clf = LogisticRegression(random_state=0, solver='lbfgs', multi_class='multinomial').fit(X_train, y_train)"
   ]
  },
  {
   "cell_type": "code",
   "execution_count": 355,
   "metadata": {},
   "outputs": [],
   "source": [
    "y_pred=clf.predict(X_test)"
   ]
  },
  {
   "cell_type": "code",
   "execution_count": 356,
   "metadata": {},
   "outputs": [
    {
     "data": {
      "text/plain": [
       "array([[ 219,  255,  382,   42,  105,  176],\n",
       "       [ 173,  476,  940,  116,  137,  443],\n",
       "       [ 113,  419, 1990,  153,   90,  547],\n",
       "       [  47,  223,  784,   70,   56,  288],\n",
       "       [ 160,  259,  400,   47,   81,  208],\n",
       "       [  93,  439, 1217,  108,   73,  471]])"
      ]
     },
     "execution_count": 356,
     "metadata": {},
     "output_type": "execute_result"
    }
   ],
   "source": [
    "cm_bow = confusion_matrix(y_test, y_pred) \n",
    "cm_bow"
   ]
  },
  {
   "cell_type": "code",
   "execution_count": 357,
   "metadata": {},
   "outputs": [
    {
     "name": "stdout",
     "output_type": "stream",
     "text": [
      "0.2802542372881356\n"
     ]
    }
   ],
   "source": [
    "print(np.mean(y_pred == y_test))"
   ]
  },
  {
   "cell_type": "code",
   "execution_count": 358,
   "metadata": {},
   "outputs": [
    {
     "data": {
      "text/plain": [
       "<matplotlib.axes._subplots.AxesSubplot at 0x7fd70de83550>"
      ]
     },
     "execution_count": 358,
     "metadata": {},
     "output_type": "execute_result"
    },
    {
     "data": {
      "image/png": "[encoded data removed]",
      "text/plain": [
       "<Figure size 432x288 with 2 Axes>"
      ]
     },
     "metadata": {
      "needs_background": "light"
     },
     "output_type": "display_data"
    }
   ],
   "source": [
    "sns.heatmap(cm_bow, annot=True)"
   ]
  },
  {
   "cell_type": "code",
   "execution_count": 359,
   "metadata": {},
   "outputs": [
    {
     "name": "stdout",
     "output_type": "stream",
     "text": [
      "              precision    recall  f1-score   support\n",
      "\n",
      "           0       0.27      0.19      0.22      1179\n",
      "           1       0.23      0.21      0.22      2285\n",
      "           2       0.35      0.60      0.44      3312\n",
      "           3       0.13      0.05      0.07      1468\n",
      "           4       0.15      0.07      0.10      1155\n",
      "           5       0.22      0.20      0.21      2401\n",
      "\n",
      "   micro avg       0.28      0.28      0.28     11800\n",
      "   macro avg       0.23      0.22      0.21     11800\n",
      "weighted avg       0.25      0.28      0.25     11800\n",
      "\n"
     ]
    }
   ],
   "source": [
    "print(classification_report(y_test,y_pred))"
   ]
  },
  {
   "cell_type": "markdown",
   "metadata": {},
   "source": [
    "#### --------- W2V dataset"
   ]
  },
  {
   "cell_type": "code",
   "execution_count": 361,
   "metadata": {},
   "outputs": [],
   "source": [
    "log_reg2=LogisticRegression(random_state=0, solver='lbfgs', multi_class='multinomial').fit(X_train_w2v, y_train_w2v)"
   ]
  },
  {
   "cell_type": "code",
   "execution_count": 362,
   "metadata": {},
   "outputs": [],
   "source": [
    "y_pred_w2v=log_reg2.predict(X_test_w2v)"
   ]
  },
  {
   "cell_type": "code",
   "execution_count": 365,
   "metadata": {},
   "outputs": [
    {
     "data": {
      "text/plain": [
       "array([[  62,  714,  400,    0,    0,    3],\n",
       "       [  23,  947, 1290,    0,    0,   25],\n",
       "       [   5,  508, 2779,    0,    0,   20],\n",
       "       [   5,  376, 1080,    0,    0,    7],\n",
       "       [  31,  613,  504,    0,    0,    7],\n",
       "       [   7,  701, 1673,    0,    0,   20]])"
      ]
     },
     "execution_count": 365,
     "metadata": {},
     "output_type": "execute_result"
    }
   ],
   "source": [
    "cm_w2v = confusion_matrix(y_test_w2v, y_pred_w2v) \n",
    "cm_w2v"
   ]
  },
  {
   "cell_type": "code",
   "execution_count": 366,
   "metadata": {},
   "outputs": [
    {
     "data": {
      "text/plain": [
       "<matplotlib.axes._subplots.AxesSubplot at 0x7fd70fa7fb38>"
      ]
     },
     "execution_count": 366,
     "metadata": {},
     "output_type": "execute_result"
    },
    {
     "data": {
      "image/png": "[encoded data removed]",
      "text/plain": [
       "<Figure size 432x288 with 2 Axes>"
      ]
     },
     "metadata": {
      "needs_background": "light"
     },
     "output_type": "display_data"
    }
   ],
   "source": [
    "sns.heatmap(cm_w2v, annot=True)"
   ]
  },
  {
   "cell_type": "code",
   "execution_count": 367,
   "metadata": {},
   "outputs": [
    {
     "name": "stdout",
     "output_type": "stream",
     "text": [
      "              precision    recall  f1-score   support\n",
      "\n",
      "           0       0.47      0.05      0.09      1179\n",
      "           1       0.25      0.41      0.31      2285\n",
      "           2       0.36      0.84      0.50      3312\n",
      "           3       0.00      0.00      0.00      1468\n",
      "           4       0.00      0.00      0.00      1155\n",
      "           5       0.24      0.01      0.02      2401\n",
      "\n",
      "   micro avg       0.32      0.32      0.32     11800\n",
      "   macro avg       0.22      0.22      0.15     11800\n",
      "weighted avg       0.24      0.32      0.21     11800\n",
      "\n"
     ]
    }
   ],
   "source": [
    "print(classification_report(y_test_w2v,y_pred_w2v))"
   ]
  },
  {
   "cell_type": "markdown",
   "metadata": {},
   "source": [
    "### 2. Multinomial Naive Bayes"
   ]
  },
  {
   "cell_type": "markdown",
   "metadata": {},
   "source": [
    "#### --------- BOW dataset"
   ]
  },
  {
   "cell_type": "code",
   "execution_count": 279,
   "metadata": {},
   "outputs": [
    {
     "data": {
      "text/plain": [
       "array([[ 105,  481,  388,    7,   26,  172],\n",
       "       [  55,  745, 1074,   30,   28,  353],\n",
       "       [  35,  686, 2080,   43,   14,  454],\n",
       "       [  17,  340,  872,   13,    9,  217],\n",
       "       [  65,  450,  435,    8,   19,  178],\n",
       "       [  29,  644, 1312,   19,   22,  375]])"
      ]
     },
     "execution_count": 279,
     "metadata": {},
     "output_type": "execute_result"
    }
   ],
   "source": [
    "multinomialNB = MultinomialNB()\n",
    "multinomialNB.fit(X_train, y_train) \n",
    "  \n",
    "# predicting test set results \n",
    "y_pred = multinomialNB.predict(X_test) \n",
    "  \n",
    "# making the confusion matrix \n",
    "cm_bow = confusion_matrix(y_test, y_pred) \n",
    "cm_bow"
   ]
  },
  {
   "cell_type": "code",
   "execution_count": null,
   "metadata": {},
   "outputs": [],
   "source": [
    "print(np.mean(y_pred == y_test))"
   ]
  },
  {
   "cell_type": "code",
   "execution_count": 280,
   "metadata": {},
   "outputs": [
    {
     "data": {
      "text/plain": [
       "<matplotlib.axes._subplots.AxesSubplot at 0x7fd70808bf28>"
      ]
     },
     "execution_count": 280,
     "metadata": {},
     "output_type": "execute_result"
    },
    {
     "data": {
      "image/png": "[encoded data removed]",
      "text/plain": [
       "<Figure size 432x288 with 2 Axes>"
      ]
     },
     "metadata": {
      "needs_background": "light"
     },
     "output_type": "display_data"
    }
   ],
   "source": [
    "sns.heatmap(cm_bow, annot=True)"
   ]
  },
  {
   "cell_type": "code",
   "execution_count": 281,
   "metadata": {},
   "outputs": [
    {
     "name": "stdout",
     "output_type": "stream",
     "text": [
      "              precision    recall  f1-score   support\n",
      "\n",
      "           0       0.34      0.09      0.14      1179\n",
      "           1       0.22      0.33      0.26      2285\n",
      "           2       0.34      0.63      0.44      3312\n",
      "           3       0.11      0.01      0.02      1468\n",
      "           4       0.16      0.02      0.03      1155\n",
      "           5       0.21      0.16      0.18      2401\n",
      "\n",
      "   micro avg       0.28      0.28      0.28     11800\n",
      "   macro avg       0.23      0.20      0.18     11800\n",
      "weighted avg       0.25      0.28      0.23     11800\n",
      "\n"
     ]
    }
   ],
   "source": [
    "print(classification_report(y_test,y_pred))"
   ]
  },
  {
   "cell_type": "markdown",
   "metadata": {},
   "source": [
    "#### ---------- W2V dataset"
   ]
  },
  {
   "cell_type": "code",
   "execution_count": 263,
   "metadata": {},
   "outputs": [
    {
     "data": {
      "text/plain": [
       "array([[ 580,  249,  206,    4,   64,   76],\n",
       "       [ 480,  551,  821,   18,  100,  315],\n",
       "       [ 368,  341, 2136,   43,   99,  325],\n",
       "       [ 180,  209,  766,   12,   58,  243],\n",
       "       [ 377,  323,  281,    2,   67,  105],\n",
       "       [ 321,  473, 1093,   22,  102,  390]])"
      ]
     },
     "execution_count": 263,
     "metadata": {},
     "output_type": "execute_result"
    }
   ],
   "source": [
    "classifier = MultinomialNB(alpha=1, fit_prior=True)\n",
    "classifier.fit(X_train_w2v.toarray(), y_train_w2v) \n",
    "  \n",
    "# predicting test set results \n",
    "y_pred_w2v = classifier.predict(X_test_w2v.toarray()) \n",
    "  \n",
    "# making the confusion matrix \n",
    "cm = confusion_matrix(y_test_w2v, y_pred_w2v) \n",
    "cm"
   ]
  },
  {
   "cell_type": "code",
   "execution_count": 282,
   "metadata": {},
   "outputs": [
    {
     "name": "stdout",
     "output_type": "stream",
     "text": [
      "0.31661016949152543\n"
     ]
    }
   ],
   "source": [
    "print(np.mean(y_pred_w2v == y_test_w2v))"
   ]
  },
  {
   "cell_type": "markdown",
   "metadata": {},
   "source": [
    "### Evaluation gaussian NB ---- W2V dataset"
   ]
  },
  {
   "cell_type": "code",
   "execution_count": 266,
   "metadata": {},
   "outputs": [
    {
     "data": {
      "text/plain": [
       "<matplotlib.axes._subplots.AxesSubplot at 0x7fd713cc9208>"
      ]
     },
     "execution_count": 266,
     "metadata": {},
     "output_type": "execute_result"
    },
    {
     "data": {
      "image/png": "[encoded data removed]",
      "text/plain": [
       "<Figure size 432x288 with 2 Axes>"
      ]
     },
     "metadata": {
      "needs_background": "light"
     },
     "output_type": "display_data"
    }
   ],
   "source": [
    "sns.heatmap(cm, annot=True)"
   ]
  },
  {
   "cell_type": "code",
   "execution_count": 267,
   "metadata": {},
   "outputs": [
    {
     "name": "stdout",
     "output_type": "stream",
     "text": [
      "              precision    recall  f1-score   support\n",
      "\n",
      "           0       0.25      0.49      0.33      1179\n",
      "           1       0.26      0.24      0.25      2285\n",
      "           2       0.40      0.64      0.50      3312\n",
      "           3       0.12      0.01      0.02      1468\n",
      "           4       0.14      0.06      0.08      1155\n",
      "           5       0.27      0.16      0.20      2401\n",
      "\n",
      "   micro avg       0.32      0.32      0.32     11800\n",
      "   macro avg       0.24      0.27      0.23     11800\n",
      "weighted avg       0.27      0.32      0.27     11800\n",
      "\n"
     ]
    }
   ],
   "source": [
    "print(classification_report(y_test_w2v,y_pred_w2v))"
   ]
  },
  {
   "cell_type": "markdown",
   "metadata": {},
   "source": [
    "### 3. Support vector machine"
   ]
  },
  {
   "cell_type": "markdown",
   "metadata": {},
   "source": [
    "#### --------- BOW dataset"
   ]
  },
  {
   "cell_type": "code",
   "execution_count": 287,
   "metadata": {},
   "outputs": [],
   "source": [
    "lin_clf = svm.LinearSVC()\n",
    "#Train the model using the training sets\n",
    "lin_clf.fit(X_train, y_train)\n",
    "\n",
    "#Predict the response for test dataset\n",
    "y_pred = lin_clf.predict(X_test)"
   ]
  },
  {
   "cell_type": "code",
   "execution_count": 288,
   "metadata": {},
   "outputs": [
    {
     "data": {
      "text/plain": [
       "array([[ 245,  240,  304,   78,  129,  183],\n",
       "       [ 213,  468,  797,  185,  191,  431],\n",
       "       [ 148,  471, 1686,  268,  134,  605],\n",
       "       [  72,  221,  673,  129,   89,  284],\n",
       "       [ 178,  245,  336,   80,  114,  202],\n",
       "       [ 135,  437, 1026,  219,  121,  463]])"
      ]
     },
     "execution_count": 288,
     "metadata": {},
     "output_type": "execute_result"
    }
   ],
   "source": [
    "# making the confusion matrix \n",
    "cm = confusion_matrix(y_test, y_pred) \n",
    "cm"
   ]
  },
  {
   "cell_type": "code",
   "execution_count": 289,
   "metadata": {},
   "outputs": [
    {
     "data": {
      "text/plain": [
       "<matplotlib.axes._subplots.AxesSubplot at 0x7fd709c1f4a8>"
      ]
     },
     "execution_count": 289,
     "metadata": {},
     "output_type": "execute_result"
    },
    {
     "data": {
      "image/png": "[encoded data removed]",
      "text/plain": [
       "<Figure size 432x288 with 2 Axes>"
      ]
     },
     "metadata": {
      "needs_background": "light"
     },
     "output_type": "display_data"
    }
   ],
   "source": [
    "sns.heatmap(cm, annot=True)"
   ]
  },
  {
   "cell_type": "code",
   "execution_count": 291,
   "metadata": {},
   "outputs": [
    {
     "name": "stdout",
     "output_type": "stream",
     "text": [
      "              precision    recall  f1-score   support\n",
      "\n",
      "           0       0.25      0.21      0.23      1179\n",
      "           1       0.22      0.20      0.21      2285\n",
      "           2       0.35      0.51      0.41      3312\n",
      "           3       0.13      0.09      0.11      1468\n",
      "           4       0.15      0.10      0.12      1155\n",
      "           5       0.21      0.19      0.20      2401\n",
      "\n",
      "   micro avg       0.26      0.26      0.26     11800\n",
      "   macro avg       0.22      0.22      0.21     11800\n",
      "weighted avg       0.24      0.26      0.25     11800\n",
      "\n"
     ]
    }
   ],
   "source": [
    "print(classification_report(y_test,y_pred))"
   ]
  },
  {
   "cell_type": "markdown",
   "metadata": {},
   "source": [
    "#### ------- W2V database"
   ]
  },
  {
   "cell_type": "code",
   "execution_count": null,
   "metadata": {},
   "outputs": [],
   "source": [
    "lin_clf = svm.LinearSVC(loss='hinge', penalty='l2')\n",
    "#Train the model using the training sets\n",
    "lin_clf.fit(X_train_w2v, y_train_w2v)\n",
    "\n",
    "#Predict the response for test dataset\n",
    "y_pred_w2v = lin_clf.predict(X_test_w2v)"
   ]
  },
  {
   "cell_type": "code",
   "execution_count": 293,
   "metadata": {},
   "outputs": [
    {
     "data": {
      "text/plain": [
       "array([[ 245,  240,  304,   78,  129,  183],\n",
       "       [ 213,  468,  797,  185,  191,  431],\n",
       "       [ 148,  471, 1686,  268,  134,  605],\n",
       "       [  72,  221,  673,  129,   89,  284],\n",
       "       [ 178,  245,  336,   80,  114,  202],\n",
       "       [ 135,  437, 1026,  219,  121,  463]])"
      ]
     },
     "execution_count": 293,
     "metadata": {},
     "output_type": "execute_result"
    }
   ],
   "source": [
    "# making the confusion matrix \n",
    "cm = confusion_matrix(y_test_w2v, y_pred_w2v) \n",
    "cm"
   ]
  },
  {
   "cell_type": "code",
   "execution_count": 294,
   "metadata": {},
   "outputs": [
    {
     "data": {
      "text/plain": [
       "<matplotlib.axes._subplots.AxesSubplot at 0x7fd70805b208>"
      ]
     },
     "execution_count": 294,
     "metadata": {},
     "output_type": "execute_result"
    },
    {
     "data": {
      "image/png": "[encoded data removed]",
      "text/plain": [
       "<Figure size 432x288 with 2 Axes>"
      ]
     },
     "metadata": {
      "needs_background": "light"
     },
     "output_type": "display_data"
    }
   ],
   "source": [
    "sns.heatmap(cm, annot=True)"
   ]
  },
  {
   "cell_type": "code",
   "execution_count": 296,
   "metadata": {},
   "outputs": [
    {
     "name": "stdout",
     "output_type": "stream",
     "text": [
      "              precision    recall  f1-score   support\n",
      "\n",
      "           0       0.56      0.21      0.30      1179\n",
      "           1       0.21      0.01      0.02      2285\n",
      "           2       0.45      0.09      0.15      3312\n",
      "           3       0.13      0.01      0.01      1468\n",
      "           4       0.40      0.01      0.01      1155\n",
      "           5       0.21      0.93      0.35      2401\n",
      "\n",
      "   micro avg       0.24      0.24      0.24     11800\n",
      "   macro avg       0.33      0.21      0.14     11800\n",
      "weighted avg       0.32      0.24      0.15     11800\n",
      "\n"
     ]
    }
   ],
   "source": [
    "print(classification_report(y_test_w2v,y_pred_w2v))"
   ]
  },
  {
   "cell_type": "markdown",
   "metadata": {},
   "source": [
    "### 4. Random forest"
   ]
  },
  {
   "cell_type": "code",
   "execution_count": 375,
   "metadata": {},
   "outputs": [
    {
     "data": {
      "text/plain": [
       "RandomForestClassifier(bootstrap=True, class_weight='balanced',\n",
       "            criterion='gini', max_depth=2, max_features='auto',\n",
       "            max_leaf_nodes=None, min_impurity_decrease=0.0,\n",
       "            min_impurity_split=None, min_samples_leaf=1,\n",
       "            min_samples_split=2, min_weight_fraction_leaf=0.0,\n",
       "            n_estimators=100, n_jobs=None, oob_score=False, random_state=0,\n",
       "            verbose=0, warm_start=False)"
      ]
     },
     "execution_count": 375,
     "metadata": {},
     "output_type": "execute_result"
    }
   ],
   "source": [
    "clf = RandomForestClassifier(n_estimators=100, max_depth=2,\n",
    "                             random_state=0, class_weight=\"balanced\")\n",
    "clf.fit(X_train_w2v, y_train_w2v)"
   ]
  },
  {
   "cell_type": "code",
   "execution_count": 376,
   "metadata": {},
   "outputs": [],
   "source": [
    "y_pred_w2v=clf.predict(X_test_w2v)"
   ]
  },
  {
   "cell_type": "code",
   "execution_count": 377,
   "metadata": {},
   "outputs": [
    {
     "data": {
      "text/plain": [
       "array([[ 883,   27,  149,   28,   73,   19],\n",
       "       [1150,  156,  619,   80,  188,   92],\n",
       "       [ 886,  195, 1705,  126,  238,  162],\n",
       "       [ 490,   84,  634,   73,  126,   61],\n",
       "       [ 734,   52,  225,   32,   85,   27],\n",
       "       [ 937,  147,  861,   99,  212,  145]])"
      ]
     },
     "execution_count": 377,
     "metadata": {},
     "output_type": "execute_result"
    }
   ],
   "source": [
    "# calculating confusion matrix \n",
    "cm = confusion_matrix(y_test_w2v, y_pred_w2v) \n",
    "cm"
   ]
  },
  {
   "cell_type": "code",
   "execution_count": 379,
   "metadata": {},
   "outputs": [
    {
     "data": {
      "text/plain": [
       "<matplotlib.axes._subplots.AxesSubplot at 0x7fd736d15b00>"
      ]
     },
     "execution_count": 379,
     "metadata": {},
     "output_type": "execute_result"
    },
    {
     "data": {
      "image/png": "[encoded data removed]",
      "text/plain": [
       "<Figure size 432x288 with 2 Axes>"
      ]
     },
     "metadata": {
      "needs_background": "light"
     },
     "output_type": "display_data"
    }
   ],
   "source": [
    "sns.heatmap(cm, annot=True)"
   ]
  },
  {
   "cell_type": "code",
   "execution_count": 378,
   "metadata": {},
   "outputs": [
    {
     "name": "stdout",
     "output_type": "stream",
     "text": [
      "              precision    recall  f1-score   support\n",
      "\n",
      "           0       0.17      0.75      0.28      1179\n",
      "           1       0.24      0.07      0.11      2285\n",
      "           2       0.41      0.51      0.45      3312\n",
      "           3       0.17      0.05      0.08      1468\n",
      "           4       0.09      0.07      0.08      1155\n",
      "           5       0.29      0.06      0.10      2401\n",
      "\n",
      "   micro avg       0.26      0.26      0.26     11800\n",
      "   macro avg       0.23      0.25      0.18     11800\n",
      "weighted avg       0.27      0.26      0.21     11800\n",
      "\n"
     ]
    }
   ],
   "source": [
    "print(classification_report(y_test_w2v,y_pred_w2v))"
   ]
  },
  {
   "cell_type": "markdown",
   "metadata": {},
   "source": [
    "### 5. Decision Tree"
   ]
  },
  {
   "cell_type": "markdown",
   "metadata": {},
   "source": [
    "#### --------- BOW dataset"
   ]
  },
  {
   "cell_type": "code",
   "execution_count": null,
   "metadata": {},
   "outputs": [],
   "source": []
  },
  {
   "cell_type": "code",
   "execution_count": null,
   "metadata": {},
   "outputs": [],
   "source": []
  },
  {
   "cell_type": "code",
   "execution_count": null,
   "metadata": {},
   "outputs": [],
   "source": []
  },
  {
   "cell_type": "markdown",
   "metadata": {},
   "source": [
    "## Fine Tuning"
   ]
  },
  {
   "cell_type": "code",
   "execution_count": 385,
   "metadata": {},
   "outputs": [],
   "source": [
    "from sklearn.model_selection import RandomizedSearchCV\n",
    "from sklearn.model_selection import GridSearchCV"
   ]
  },
  {
   "cell_type": "markdown",
   "metadata": {},
   "source": [
    "#### 4. Random forest (RandomCVSearch)"
   ]
  },
  {
   "cell_type": "code",
   "execution_count": 382,
   "metadata": {},
   "outputs": [
    {
     "name": "stdout",
     "output_type": "stream",
     "text": [
      "{'n_estimators': [200, 400, 600, 800, 1000, 1200, 1400, 1600, 1800, 2000], 'max_features': ['auto', 'sqrt'], 'min_samples_split': [2, 5, 10], 'min_samples_leaf': [1, 2, 4], 'bootstrap': [True, False], 'max_depth': [10, 20, 30, 40, 50, 60, 70, 80, 90, 100, 110, None]}\n"
     ]
    }
   ],
   "source": [
    "# Number of trees in random forest\n",
    "n_estimators = [int(x) for x in np.linspace(start = 200, stop = 2000, num = 10)]\n",
    "# Number of features to consider at every split\n",
    "max_features = ['auto', 'sqrt']\n",
    "# Maximum number of levels in tree\n",
    "max_depth = [int(x) for x in np.linspace(10, 110, num = 11)]\n",
    "max_depth.append(None)\n",
    "# Minimum number of samples required to split a node\n",
    "min_samples_split = [2, 5, 10]\n",
    "# Minimum number of samples required at each leaf node\n",
    "min_samples_leaf = [1, 2, 4]\n",
    "# Method of selecting samples for training each tree\n",
    "bootstrap = [True, False]\n",
    "# Create the random grid\n",
    "random_grid = {'n_estimators': n_estimators,\n",
    "               'max_features': max_features,\n",
    "               'max_depth': max_depth,\n",
    "               'min_samples_split': min_samples_split,\n",
    "               'min_samples_leaf': min_samples_leaf,\n",
    "               'bootstrap': bootstrap}\n",
    "print(random_grid)"
   ]
  },
  {
   "cell_type": "code",
   "execution_count": null,
   "metadata": {},
   "outputs": [
    {
     "name": "stdout",
     "output_type": "stream",
     "text": [
      "Fitting 3 folds for each of 4320 candidates, totalling 12960 fits\n"
     ]
    },
    {
     "name": "stderr",
     "output_type": "stream",
     "text": [
      "[Parallel(n_jobs=-1)]: Using backend LokyBackend with 8 concurrent workers.\n",
      "[Parallel(n_jobs=-1)]: Done  25 tasks      | elapsed: 15.3min\n"
     ]
    }
   ],
   "source": [
    "# Create a based model\n",
    "rf = RandomForestClassifier()\n",
    "# Instantiate the grid search model\n",
    "grid_search = GridSearchCV(estimator = rf, param_grid = random_grid, \n",
    "                          cv = 3, n_jobs = -1, verbose = 2)\n",
    "# Fit the grid search to the data\n",
    "grid_search.fit(X_train_w2v, y_train_w2v)\n",
    "print(grid_search.best_params_)\n",
    "\n",
    "best_grid = grid_search.best_estimator_\n",
    "grid_accuracy = evaluate(best_grid, X_test_w2v, y_test_w2v)\n"
   ]
  },
  {
   "cell_type": "code",
   "execution_count": null,
   "metadata": {},
   "outputs": [],
   "source": []
  }
 ],
 "metadata": {
  "accelerator": "GPU",
  "colab": {
   "collapsed_sections": [],
   "name": "Paper3.ipynb",
   "provenance": [],
   "version": "0.3.2"
  },
  "kernelspec": {
   "display_name": "Python 3",
   "language": "python",
   "name": "python3"
  },
  "language_info": {
   "codemirror_mode": {
    "name": "ipython",
    "version": 3
   },
   "file_extension": ".py",
   "mimetype": "text/x-python",
   "name": "python",
   "nbconvert_exporter": "python",
   "pygments_lexer": "ipython3",
   "version": "3.5.2"
  }
 },
 "nbformat": 4,
 "nbformat_minor": 1
}
